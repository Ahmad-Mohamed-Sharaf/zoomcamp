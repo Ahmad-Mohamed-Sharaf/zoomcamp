{
  "cells": [
    {
      "cell_type": "markdown",
      "metadata": {
        "id": "view-in-github",
        "colab_type": "text"
      },
      "source": [
        "<a href=\"https://colab.research.google.com/github/Ahmad-Mohamed-Sharaf/zoomcamp/blob/main/deep_learning.ipynb\" target=\"_parent\"><img src=\"https://colab.research.google.com/assets/colab-badge.svg\" alt=\"Open In Colab\"/></a>"
      ]
    },
    {
      "cell_type": "code",
      "execution_count": null,
      "metadata": {
        "colab": {
          "base_uri": "https://localhost:8080/"
        },
        "id": "EWWLv6IjMPCX",
        "outputId": "1011fdf5-72a3-40d7-809c-d094ca73f5c9"
      },
      "outputs": [
        {
          "output_type": "stream",
          "name": "stdout",
          "text": [
            "Requirement already satisfied: tensorflow in /usr/local/lib/python3.11/dist-packages (2.18.0)\n",
            "Requirement already satisfied: absl-py>=1.0.0 in /usr/local/lib/python3.11/dist-packages (from tensorflow) (1.4.0)\n",
            "Requirement already satisfied: astunparse>=1.6.0 in /usr/local/lib/python3.11/dist-packages (from tensorflow) (1.6.3)\n",
            "Requirement already satisfied: flatbuffers>=24.3.25 in /usr/local/lib/python3.11/dist-packages (from tensorflow) (25.2.10)\n",
            "Requirement already satisfied: gast!=0.5.0,!=0.5.1,!=0.5.2,>=0.2.1 in /usr/local/lib/python3.11/dist-packages (from tensorflow) (0.6.0)\n",
            "Requirement already satisfied: google-pasta>=0.1.1 in /usr/local/lib/python3.11/dist-packages (from tensorflow) (0.2.0)\n",
            "Requirement already satisfied: libclang>=13.0.0 in /usr/local/lib/python3.11/dist-packages (from tensorflow) (18.1.1)\n",
            "Requirement already satisfied: opt-einsum>=2.3.2 in /usr/local/lib/python3.11/dist-packages (from tensorflow) (3.4.0)\n",
            "Requirement already satisfied: packaging in /usr/local/lib/python3.11/dist-packages (from tensorflow) (24.2)\n",
            "Requirement already satisfied: protobuf!=4.21.0,!=4.21.1,!=4.21.2,!=4.21.3,!=4.21.4,!=4.21.5,<6.0.0dev,>=3.20.3 in /usr/local/lib/python3.11/dist-packages (from tensorflow) (5.29.4)\n",
            "Requirement already satisfied: requests<3,>=2.21.0 in /usr/local/lib/python3.11/dist-packages (from tensorflow) (2.32.3)\n",
            "Requirement already satisfied: setuptools in /usr/local/lib/python3.11/dist-packages (from tensorflow) (75.2.0)\n",
            "Requirement already satisfied: six>=1.12.0 in /usr/local/lib/python3.11/dist-packages (from tensorflow) (1.17.0)\n",
            "Requirement already satisfied: termcolor>=1.1.0 in /usr/local/lib/python3.11/dist-packages (from tensorflow) (3.0.1)\n",
            "Requirement already satisfied: typing-extensions>=3.6.6 in /usr/local/lib/python3.11/dist-packages (from tensorflow) (4.13.2)\n",
            "Requirement already satisfied: wrapt>=1.11.0 in /usr/local/lib/python3.11/dist-packages (from tensorflow) (1.17.2)\n",
            "Requirement already satisfied: grpcio<2.0,>=1.24.3 in /usr/local/lib/python3.11/dist-packages (from tensorflow) (1.71.0)\n",
            "Requirement already satisfied: tensorboard<2.19,>=2.18 in /usr/local/lib/python3.11/dist-packages (from tensorflow) (2.18.0)\n",
            "Requirement already satisfied: keras>=3.5.0 in /usr/local/lib/python3.11/dist-packages (from tensorflow) (3.8.0)\n",
            "Requirement already satisfied: numpy<2.1.0,>=1.26.0 in /usr/local/lib/python3.11/dist-packages (from tensorflow) (2.0.2)\n",
            "Requirement already satisfied: h5py>=3.11.0 in /usr/local/lib/python3.11/dist-packages (from tensorflow) (3.13.0)\n",
            "Requirement already satisfied: ml-dtypes<0.5.0,>=0.4.0 in /usr/local/lib/python3.11/dist-packages (from tensorflow) (0.4.1)\n",
            "Requirement already satisfied: tensorflow-io-gcs-filesystem>=0.23.1 in /usr/local/lib/python3.11/dist-packages (from tensorflow) (0.37.1)\n",
            "Requirement already satisfied: wheel<1.0,>=0.23.0 in /usr/local/lib/python3.11/dist-packages (from astunparse>=1.6.0->tensorflow) (0.45.1)\n",
            "Requirement already satisfied: rich in /usr/local/lib/python3.11/dist-packages (from keras>=3.5.0->tensorflow) (13.9.4)\n",
            "Requirement already satisfied: namex in /usr/local/lib/python3.11/dist-packages (from keras>=3.5.0->tensorflow) (0.0.8)\n",
            "Requirement already satisfied: optree in /usr/local/lib/python3.11/dist-packages (from keras>=3.5.0->tensorflow) (0.15.0)\n",
            "Requirement already satisfied: charset-normalizer<4,>=2 in /usr/local/lib/python3.11/dist-packages (from requests<3,>=2.21.0->tensorflow) (3.4.1)\n",
            "Requirement already satisfied: idna<4,>=2.5 in /usr/local/lib/python3.11/dist-packages (from requests<3,>=2.21.0->tensorflow) (3.10)\n",
            "Requirement already satisfied: urllib3<3,>=1.21.1 in /usr/local/lib/python3.11/dist-packages (from requests<3,>=2.21.0->tensorflow) (2.3.0)\n",
            "Requirement already satisfied: certifi>=2017.4.17 in /usr/local/lib/python3.11/dist-packages (from requests<3,>=2.21.0->tensorflow) (2025.1.31)\n",
            "Requirement already satisfied: markdown>=2.6.8 in /usr/local/lib/python3.11/dist-packages (from tensorboard<2.19,>=2.18->tensorflow) (3.8)\n",
            "Requirement already satisfied: tensorboard-data-server<0.8.0,>=0.7.0 in /usr/local/lib/python3.11/dist-packages (from tensorboard<2.19,>=2.18->tensorflow) (0.7.2)\n",
            "Requirement already satisfied: werkzeug>=1.0.1 in /usr/local/lib/python3.11/dist-packages (from tensorboard<2.19,>=2.18->tensorflow) (3.1.3)\n",
            "Requirement already satisfied: MarkupSafe>=2.1.1 in /usr/local/lib/python3.11/dist-packages (from werkzeug>=1.0.1->tensorboard<2.19,>=2.18->tensorflow) (3.0.2)\n",
            "Requirement already satisfied: markdown-it-py>=2.2.0 in /usr/local/lib/python3.11/dist-packages (from rich->keras>=3.5.0->tensorflow) (3.0.0)\n",
            "Requirement already satisfied: pygments<3.0.0,>=2.13.0 in /usr/local/lib/python3.11/dist-packages (from rich->keras>=3.5.0->tensorflow) (2.18.0)\n",
            "Requirement already satisfied: mdurl~=0.1 in /usr/local/lib/python3.11/dist-packages (from markdown-it-py>=2.2.0->rich->keras>=3.5.0->tensorflow) (0.1.2)\n"
          ]
        }
      ],
      "source": [
        "!pip install tensorflow\n"
      ]
    },
    {
      "cell_type": "code",
      "execution_count": null,
      "metadata": {
        "id": "fwkE4vA_MYc-"
      },
      "outputs": [],
      "source": [
        "import numpy as np\n",
        "import matplotlib.pyplot as plt\n",
        "\n",
        "%matplotlib inline\n",
        "import os\n",
        "from tensorflow.keras.utils import load_img\n",
        "import tensorflow as tf\n",
        "from tensorflow import keras\n",
        "from tensorflow.keras.preprocessing.image import load_img\n",
        "from tensorflow.keras.applications.xception import Xception\n",
        "from tensorflow.keras.applications.xception import preprocess_input\n",
        "from tensorflow.keras.applications.xception import decode_predictions\n",
        "from tensorflow.keras.preprocessing.image import ImageDataGenerator\n"
      ]
    },
    {
      "cell_type": "code",
      "execution_count": null,
      "metadata": {
        "colab": {
          "base_uri": "https://localhost:8080/",
          "height": 584
        },
        "id": "KJiOr8KcUFCW",
        "outputId": "a7b15193-21c9-4386-ada0-de43a7a357fd"
      },
      "outputs": [
        {
          "output_type": "stream",
          "name": "stdout",
          "text": [
            "Cloning into 'clothing-dataset-small'...\n",
            "remote: Enumerating objects: 3839, done.\u001b[K\n",
            "remote: Counting objects: 100% (400/400), done.\u001b[K\n",
            "remote: Compressing objects: 100% (400/400), done.\u001b[K\n",
            "remote: Total 3839 (delta 9), reused 385 (delta 0), pack-reused 3439 (from 1)\u001b[K\n",
            "Receiving objects: 100% (3839/3839), 100.58 MiB | 15.38 MiB/s, done.\n",
            "Resolving deltas: 100% (10/10), done.\n",
            "Updating files: 100% (3783/3783), done.\n",
            "/content/clothing-dataset-small\n"
          ]
        },
        {
          "output_type": "display_data",
          "data": {
            "text/plain": [
              "<Figure size 640x480 with 1 Axes>"
            ],
            "image/png": "[encoded data removed]"
          },
          "metadata": {}
        }
      ],
      "source": [
        "# Clone the project from GitHub\n",
        "!git clone https://github.com/alexeygrigorev/clothing-dataset-small.git\n",
        "\n",
        "# Navigate to the folder after cloning\n",
        "%cd /content/clothing-dataset-small\n",
        "\n",
        "# Select a random image from the t-shirt folder\n",
        "img_name = \"5f0a3fa0-6a3d-4b68-b213-72766a643de7.jpg\"\n",
        "img_path = f'./train/t-shirt/{img_name}'\n",
        "\n",
        "# Load and display the image\n",
        "img = load_img(img_path)\n",
        "plt.imshow(img)\n",
        "plt.axis('off')\n",
        "plt.title(img_name)\n",
        "plt.show()\n"
      ]
    },
    {
      "cell_type": "code",
      "execution_count": null,
      "metadata": {
        "id": "tI8iVj3bcqyR"
      },
      "outputs": [],
      "source": [
        "fullname = img_path\n",
        "\n",
        "img = load_img(fullname, target_size=(299, 299))\n"
      ]
    },
    {
      "cell_type": "code",
      "execution_count": null,
      "metadata": {
        "colab": {
          "base_uri": "https://localhost:8080/"
        },
        "id": "-7t47DdrbEj9",
        "outputId": "14cd0eae-8e59-434b-e43a-e84cab9dfd67"
      },
      "outputs": [
        {
          "output_type": "stream",
          "name": "stdout",
          "text": [
            "<PIL.Image.Image image mode=RGB size=299x299 at 0x78D6D7BB4AD0>\n"
          ]
        }
      ],
      "source": [
        "print(img)\n"
      ]
    },
    {
      "cell_type": "code",
      "execution_count": null,
      "metadata": {
        "colab": {
          "base_uri": "https://localhost:8080/",
          "height": 339
        },
        "id": "81DY32zcdfOp",
        "outputId": "e6058400-9a70-4927-adaf-f8b3aaf26c10"
      },
      "outputs": [
        {
          "output_type": "execute_result",
          "data": {
            "text/plain": [
              "array([[[179, 171,  99],\n",
              "        [179, 171,  99],\n",
              "        [181, 173, 101],\n",
              "        ...,\n",
              "        [251, 253, 248],\n",
              "        [251, 253, 248],\n",
              "        [251, 254, 247]],\n",
              "\n",
              "       [[188, 179, 112],\n",
              "        [187, 178, 111],\n",
              "        [186, 177, 108],\n",
              "        ...,\n",
              "        [251, 252, 247],\n",
              "        [251, 252, 247],\n",
              "        [251, 252, 246]],\n",
              "\n",
              "       [[199, 189, 127],\n",
              "        [200, 190, 128],\n",
              "        [200, 191, 126],\n",
              "        ...,\n",
              "        [250, 251, 245],\n",
              "        [250, 251, 245],\n",
              "        [250, 251, 245]],\n",
              "\n",
              "       ...,\n",
              "\n",
              "       [[165, 151,  76],\n",
              "        [173, 159,  84],\n",
              "        [171, 157,  82],\n",
              "        ...,\n",
              "        [183, 135,  25],\n",
              "        [181, 133,  22],\n",
              "        [183, 135,  24]],\n",
              "\n",
              "       [[165, 151,  76],\n",
              "        [173, 159,  84],\n",
              "        [171, 157,  82],\n",
              "        ...,\n",
              "        [182, 134,  23],\n",
              "        [180, 132,  21],\n",
              "        [182, 134,  23]],\n",
              "\n",
              "       [[165, 151,  76],\n",
              "        [173, 159,  84],\n",
              "        [171, 157,  82],\n",
              "        ...,\n",
              "        [181, 133,  22],\n",
              "        [179, 131,  20],\n",
              "        [182, 134,  23]]], dtype=uint8)"
            ],
            "text/html": [
              "<style>\n",
              "      .ndarray_repr .ndarray_raw_data {\n",
              "        display: none;\n",
              "      }\n",
              "      .ndarray_repr.show_array .ndarray_raw_data {\n",
              "        display: block;\n",
              "      }\n",
              "      .ndarray_repr.show_array .ndarray_image_preview {\n",
              "        display: none;\n",
              "      }\n",
              "      </style>\n",
              "      <div id=\"id-b61a8642-d30e-4569-ba25-795c03d41ae4\" class=\"ndarray_repr\"><pre>ndarray (299, 299, 3) <button style=\"padding: 0 2px;\">show data</button></pre><img src=\"data:image/png;base64,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\" class=\"ndarray_image_preview\" /><pre class=\"ndarray_raw_data\">array([[[179, 171,  99],\n",
              "        [179, 171,  99],\n",
              "        [181, 173, 101],\n",
              "        ...,\n",
              "        [251, 253, 248],\n",
              "        [251, 253, 248],\n",
              "        [251, 254, 247]],\n",
              "\n",
              "       [[188, 179, 112],\n",
              "        [187, 178, 111],\n",
              "        [186, 177, 108],\n",
              "        ...,\n",
              "        [251, 252, 247],\n",
              "        [251, 252, 247],\n",
              "        [251, 252, 246]],\n",
              "\n",
              "       [[199, 189, 127],\n",
              "        [200, 190, 128],\n",
              "        [200, 191, 126],\n",
              "        ...,\n",
              "        [250, 251, 245],\n",
              "        [250, 251, 245],\n",
              "        [250, 251, 245]],\n",
              "\n",
              "       ...,\n",
              "\n",
              "       [[165, 151,  76],\n",
              "        [173, 159,  84],\n",
              "        [171, 157,  82],\n",
              "        ...,\n",
              "        [183, 135,  25],\n",
              "        [181, 133,  22],\n",
              "        [183, 135,  24]],\n",
              "\n",
              "       [[165, 151,  76],\n",
              "        [173, 159,  84],\n",
              "        [171, 157,  82],\n",
              "        ...,\n",
              "        [182, 134,  23],\n",
              "        [180, 132,  21],\n",
              "        [182, 134,  23]],\n",
              "\n",
              "       [[165, 151,  76],\n",
              "        [173, 159,  84],\n",
              "        [171, 157,  82],\n",
              "        ...,\n",
              "        [181, 133,  22],\n",
              "        [179, 131,  20],\n",
              "        [182, 134,  23]]], dtype=uint8)</pre></div><script>\n",
              "      (() => {\n",
              "      const titles = ['show data', 'hide data'];\n",
              "      let index = 0\n",
              "      document.querySelector('#id-b61a8642-d30e-4569-ba25-795c03d41ae4 button').onclick = (e) => {\n",
              "        document.querySelector('#id-b61a8642-d30e-4569-ba25-795c03d41ae4').classList.toggle('show_array');\n",
              "        index = (++index) % 2;\n",
              "        document.querySelector('#id-b61a8642-d30e-4569-ba25-795c03d41ae4 button').textContent = titles[index];\n",
              "        e.preventDefault();\n",
              "        e.stopPropagation();\n",
              "      }\n",
              "      })();\n",
              "    </script>"
            ]
          },
          "metadata": {},
          "execution_count": 9
        }
      ],
      "source": [
        "x = np.array(img)\n",
        "x"
      ]
    },
    {
      "cell_type": "code",
      "execution_count": null,
      "metadata": {
        "colab": {
          "base_uri": "https://localhost:8080/"
        },
        "id": "wjXutIjOdmp7",
        "outputId": "d293aae1-6be4-4250-a6b0-db8f83cb04ce"
      },
      "outputs": [
        {
          "output_type": "execute_result",
          "data": {
            "text/plain": [
              "(299, 299, 3)"
            ]
          },
          "metadata": {},
          "execution_count": 10
        }
      ],
      "source": [
        "x.shape"
      ]
    },
    {
      "cell_type": "markdown",
      "metadata": {
        "id": "y4GSDtMZ-p3d"
      },
      "source": [
        "use xception model"
      ]
    },
    {
      "cell_type": "code",
      "execution_count": null,
      "metadata": {
        "colab": {
          "base_uri": "https://localhost:8080/"
        },
        "id": "ygpzksNNdwqF",
        "outputId": "73d175a2-71b8-4cb0-f505-18f6ccdbf702"
      },
      "outputs": [
        {
          "output_type": "stream",
          "name": "stdout",
          "text": [
            "Downloading data from https://storage.googleapis.com/tensorflow/keras-applications/xception/xception_weights_tf_dim_ordering_tf_kernels.h5\n",
            "\u001b[1m91884032/91884032\u001b[0m \u001b[32m━━━━━━━━━━━━━━━━━━━━\u001b[0m\u001b[37m\u001b[0m \u001b[1m5s\u001b[0m 0us/step\n"
          ]
        }
      ],
      "source": [
        "model = Xception(\n",
        "    weights=\"imagenet\",\n",
        "    input_shape=(299, 299, 3)\n",
        ")"
      ]
    },
    {
      "cell_type": "code",
      "execution_count": null,
      "metadata": {
        "colab": {
          "base_uri": "https://localhost:8080/"
        },
        "id": "m-Whq8q0fAzb",
        "outputId": "8a2bb950-f96e-4275-a1e0-3f4dbe12c69d"
      },
      "outputs": [
        {
          "output_type": "execute_result",
          "data": {
            "text/plain": [
              "(1, 299, 299, 3)"
            ]
          },
          "metadata": {},
          "execution_count": 12
        }
      ],
      "source": [
        "X = np.array([x])\n",
        "X.shape"
      ]
    },
    {
      "cell_type": "code",
      "execution_count": null,
      "metadata": {
        "colab": {
          "base_uri": "https://localhost:8080/"
        },
        "id": "CnAPLqu5ftEs",
        "outputId": "0e76d390-1e3e-498d-af1f-7212e714d2bb"
      },
      "outputs": [
        {
          "output_type": "execute_result",
          "data": {
            "text/plain": [
              "array([[[ 0.4039216 ,  0.3411765 , -0.2235294 ],\n",
              "        [ 0.4039216 ,  0.3411765 , -0.2235294 ],\n",
              "        [ 0.41960788,  0.35686278, -0.20784312],\n",
              "        ...,\n",
              "        [ 0.96862745,  0.9843137 ,  0.94509804],\n",
              "        [ 0.96862745,  0.9843137 ,  0.94509804],\n",
              "        [ 0.96862745,  0.99215686,  0.9372549 ]],\n",
              "\n",
              "       [[ 0.47450984,  0.4039216 , -0.12156862],\n",
              "        [ 0.4666667 ,  0.39607847, -0.12941176],\n",
              "        [ 0.45882356,  0.38823533, -0.15294117],\n",
              "        ...,\n",
              "        [ 0.96862745,  0.9764706 ,  0.9372549 ],\n",
              "        [ 0.96862745,  0.9764706 ,  0.9372549 ],\n",
              "        [ 0.96862745,  0.9764706 ,  0.92941177]],\n",
              "\n",
              "       [[ 0.56078434,  0.48235297, -0.00392157],\n",
              "        [ 0.5686275 ,  0.4901961 ,  0.00392163],\n",
              "        [ 0.5686275 ,  0.49803925, -0.01176471],\n",
              "        ...,\n",
              "        [ 0.9607843 ,  0.96862745,  0.92156863],\n",
              "        [ 0.9607843 ,  0.96862745,  0.92156863],\n",
              "        [ 0.9607843 ,  0.96862745,  0.92156863]],\n",
              "\n",
              "       ...,\n",
              "\n",
              "       [[ 0.2941177 ,  0.18431377, -0.40392154],\n",
              "        [ 0.35686278,  0.24705887, -0.34117645],\n",
              "        [ 0.3411765 ,  0.2313726 , -0.35686272],\n",
              "        ...,\n",
              "        [ 0.43529415,  0.05882359, -0.8039216 ],\n",
              "        [ 0.41960788,  0.04313731, -0.827451  ],\n",
              "        [ 0.43529415,  0.05882359, -0.8117647 ]],\n",
              "\n",
              "       [[ 0.2941177 ,  0.18431377, -0.40392154],\n",
              "        [ 0.35686278,  0.24705887, -0.34117645],\n",
              "        [ 0.3411765 ,  0.2313726 , -0.35686272],\n",
              "        ...,\n",
              "        [ 0.427451  ,  0.05098045, -0.81960785],\n",
              "        [ 0.41176474,  0.03529418, -0.8352941 ],\n",
              "        [ 0.427451  ,  0.05098045, -0.81960785]],\n",
              "\n",
              "       [[ 0.2941177 ,  0.18431377, -0.40392154],\n",
              "        [ 0.35686278,  0.24705887, -0.34117645],\n",
              "        [ 0.3411765 ,  0.2313726 , -0.35686272],\n",
              "        ...,\n",
              "        [ 0.41960788,  0.04313731, -0.827451  ],\n",
              "        [ 0.4039216 ,  0.02745104, -0.84313726],\n",
              "        [ 0.427451  ,  0.05098045, -0.81960785]]], dtype=float32)"
            ]
          },
          "metadata": {},
          "execution_count": 13
        }
      ],
      "source": [
        "X = preprocess_input(X)\n",
        "X[0]"
      ]
    },
    {
      "cell_type": "code",
      "execution_count": null,
      "metadata": {
        "colab": {
          "base_uri": "https://localhost:8080/"
        },
        "id": "ClwsdaeTfy1v",
        "outputId": "2ac2a344-b0fe-4e1d-9c13-8388e69fd783"
      },
      "outputs": [
        {
          "output_type": "stream",
          "name": "stdout",
          "text": [
            "\u001b[1m1/1\u001b[0m \u001b[32m━━━━━━━━━━━━━━━━━━━━\u001b[0m\u001b[37m\u001b[0m \u001b[1m6s\u001b[0m 6s/step\n"
          ]
        }
      ],
      "source": [
        "pred = model.predict(X)"
      ]
    },
    {
      "cell_type": "code",
      "execution_count": null,
      "metadata": {
        "colab": {
          "base_uri": "https://localhost:8080/"
        },
        "id": "Gyryk94cBe8_",
        "outputId": "7f5605a9-f33f-42e0-f035-41f8c2bfee20"
      },
      "outputs": [
        {
          "output_type": "execute_result",
          "data": {
            "text/plain": [
              "(1, 1000)"
            ]
          },
          "metadata": {},
          "execution_count": 15
        }
      ],
      "source": [
        "pred.shape\n"
      ]
    },
    {
      "cell_type": "code",
      "execution_count": null,
      "metadata": {
        "colab": {
          "base_uri": "https://localhost:8080/"
        },
        "id": "VzloTt-xH4hZ",
        "outputId": "187d5489-ba61-433d-9156-6b83d22eda36"
      },
      "outputs": [
        {
          "output_type": "execute_result",
          "data": {
            "text/plain": [
              "array([[3.23711836e-04, 1.57383591e-04, 2.13492880e-04, 1.52370281e-04,\n",
              "        2.47625838e-04, 3.05035559e-04, 3.20591673e-04, 1.47499086e-04,\n",
              "        2.03621545e-04, 1.49272208e-04, 1.95662607e-04, 2.10137077e-04,\n",
              "        7.59263858e-05, 1.13972041e-04, 1.62683296e-04, 2.04638316e-04,\n",
              "        1.97415677e-04, 1.44288526e-04, 1.40217293e-04, 1.73685708e-04,\n",
              "        7.46689271e-04, 2.56966392e-04, 2.66808463e-04, 2.96513783e-04,\n",
              "        3.73601768e-04, 2.77403975e-04, 2.16570523e-04, 2.27269804e-04,\n",
              "        3.80812591e-04, 1.72165688e-04, 3.05400725e-04, 1.96431050e-04,\n",
              "        3.92114598e-04, 4.78070957e-04, 2.91751028e-04, 3.25693021e-04,\n",
              "        1.47395025e-04, 1.62361830e-04, 2.12710453e-04, 1.34028072e-04,\n",
              "        2.40070149e-04, 6.75210846e-04, 2.54943065e-04, 1.44478545e-04,\n",
              "        4.12820926e-04, 2.04408367e-04, 3.02957895e-04, 1.49339408e-04,\n",
              "        1.99653441e-04, 2.27005512e-04, 2.93728866e-04, 2.27444340e-04,\n",
              "        6.37643505e-04, 7.82614225e-04, 2.49556906e-04, 4.05270257e-04,\n",
              "        2.98436935e-04, 1.94578301e-04, 4.18177398e-04, 4.46839927e-04,\n",
              "        1.89225582e-04, 2.20415081e-04, 1.66703787e-04, 9.56100412e-05,\n",
              "        4.43346071e-04, 4.68782848e-04, 2.09413862e-04, 2.08906218e-04,\n",
              "        2.92222336e-04, 1.65472738e-04, 2.52797268e-04, 1.87142519e-04,\n",
              "        3.27151793e-04, 3.09902825e-04, 2.61813024e-04, 2.06037890e-04,\n",
              "        2.88650685e-04, 1.77881055e-04, 1.54109934e-04, 2.35764339e-04,\n",
              "        4.49022802e-04, 1.50889813e-04, 2.96581245e-04, 2.29358411e-04,\n",
              "        1.50665801e-04, 1.46148712e-04, 2.29142825e-04, 1.62976794e-04,\n",
              "        1.02747392e-04, 1.25728693e-04, 1.38827090e-04, 3.58131510e-04,\n",
              "        3.02196975e-04, 1.75260415e-04, 1.08938591e-04, 2.32443985e-04,\n",
              "        1.51489920e-04, 3.23406974e-04, 6.11127471e-04, 1.96840410e-04,\n",
              "        2.87703791e-04, 6.57078403e-04, 1.88291117e-04, 3.15078185e-04,\n",
              "        1.11206886e-04, 1.62989687e-04, 2.66107352e-04, 1.11718182e-04,\n",
              "        2.01126080e-04, 1.95701607e-04, 1.44310688e-04, 2.13544408e-04,\n",
              "        8.92837343e-05, 1.09155102e-04, 1.21667777e-04, 1.75815716e-04,\n",
              "        1.49918618e-04, 8.24092203e-05, 1.45772050e-04, 1.67100749e-04,\n",
              "        2.78394902e-04, 1.53268047e-04, 1.77590511e-04, 1.38543139e-04,\n",
              "        2.61310401e-04, 1.15346636e-04, 1.23351798e-04, 2.56074214e-04,\n",
              "        4.04170598e-04, 2.72415433e-04, 1.42684105e-04, 3.92190501e-04,\n",
              "        1.54190930e-04, 5.84177498e-04, 1.49161060e-04, 6.45012129e-04,\n",
              "        6.41178747e-04, 8.50248849e-04, 6.21289306e-04, 3.01344815e-04,\n",
              "        1.91342595e-04, 4.20020311e-04, 5.72934980e-04, 4.91924118e-04,\n",
              "        1.50310589e-04, 9.82921192e-05, 2.81783607e-04, 3.86092666e-04,\n",
              "        1.83080949e-04, 1.84246062e-04, 1.69225823e-04, 8.55844555e-05,\n",
              "        1.59042858e-04, 2.80912209e-04, 1.84565972e-04, 2.11602077e-04,\n",
              "        1.57530609e-04, 7.75499720e-05, 9.75286093e-05, 1.55271671e-04,\n",
              "        1.99218077e-04, 1.05739266e-04, 9.97855459e-05, 1.24775601e-04,\n",
              "        1.25937615e-04, 1.25329680e-04, 1.05936087e-04, 1.10501205e-04,\n",
              "        2.10637285e-04, 3.98860051e-04, 1.66145575e-04, 1.11239126e-04,\n",
              "        1.74040368e-04, 3.97956523e-04, 2.21921902e-04, 2.07706529e-04,\n",
              "        4.42684017e-04, 2.79875647e-04, 1.84934746e-04, 1.44996040e-04,\n",
              "        9.08342845e-05, 3.01898253e-04, 3.16585385e-04, 6.39167672e-04,\n",
              "        4.35968454e-04, 2.06203986e-04, 2.92502256e-04, 1.92065272e-04,\n",
              "        2.10182770e-04, 2.09769059e-04, 4.03512269e-04, 1.81973679e-04,\n",
              "        2.66419840e-04, 1.53606641e-04, 2.56261701e-04, 8.45565664e-05,\n",
              "        5.00108697e-04, 2.15730513e-04, 2.53120787e-04, 1.98794092e-04,\n",
              "        1.91062296e-04, 2.57798267e-04, 3.99285374e-04, 3.40726547e-04,\n",
              "        3.53424723e-04, 2.17981826e-04, 1.49507425e-04, 1.84135410e-04,\n",
              "        9.08856819e-05, 1.79934781e-04, 1.07180946e-04, 2.23753348e-04,\n",
              "        2.37198721e-04, 1.93462591e-04, 1.50989435e-04, 1.91398605e-04,\n",
              "        1.50956170e-04, 1.80539835e-04, 2.55908672e-04, 5.60942171e-05,\n",
              "        1.30189830e-04, 1.28797576e-04, 5.65184862e-04, 6.94463597e-05,\n",
              "        1.96600653e-04, 3.15418962e-04, 1.40727701e-04, 1.87881611e-04,\n",
              "        1.19411045e-04, 2.32015969e-04, 1.48083593e-04, 1.24203958e-04,\n",
              "        3.18226812e-04, 4.23621910e-04, 2.75730970e-04, 2.26704360e-04,\n",
              "        1.99931805e-04, 9.17610378e-05, 5.02170704e-04, 2.79754488e-04,\n",
              "        4.53745684e-04, 3.89442896e-04, 9.62052873e-05, 1.09810389e-04,\n",
              "        2.04428448e-04, 6.39025966e-05, 9.33205374e-05, 1.29510969e-04,\n",
              "        1.35651397e-04, 1.08546592e-04, 1.53162982e-04, 2.80005916e-04,\n",
              "        3.85703897e-04, 7.53498243e-05, 1.28342304e-04, 2.86543713e-04,\n",
              "        1.17804746e-04, 1.77703507e-04, 1.26859406e-04, 1.21194134e-04,\n",
              "        1.28388696e-04, 2.94204860e-04, 3.61327140e-04, 1.14310576e-04,\n",
              "        9.30750466e-05, 1.34613481e-04, 8.95772901e-05, 1.12351772e-04,\n",
              "        1.58339433e-04, 1.96552108e-04, 1.82630669e-04, 1.91916610e-04,\n",
              "        4.46937076e-04, 4.55960544e-04, 1.98947339e-04, 2.87369097e-04,\n",
              "        2.15591484e-04, 2.54736369e-04, 3.04193120e-04, 1.13281123e-04,\n",
              "        2.18704998e-04, 8.02760405e-05, 1.06884720e-04, 1.75249894e-04,\n",
              "        8.50212673e-05, 7.85707307e-05, 2.75650236e-04, 1.45162194e-04,\n",
              "        3.44201224e-04, 2.48158118e-04, 3.50277580e-04, 4.25880629e-04,\n",
              "        1.80593561e-04, 1.85368568e-04, 1.54409601e-04, 2.38928944e-04,\n",
              "        2.49505974e-04, 2.84060952e-04, 1.82551448e-04, 2.50874844e-04,\n",
              "        3.38421320e-04, 2.82435067e-04, 1.75149820e-04, 1.37145616e-04,\n",
              "        2.20066606e-04, 2.95641716e-04, 1.82779142e-04, 1.11594658e-04,\n",
              "        1.73119828e-04, 9.69031680e-05, 2.13932290e-04, 1.91575935e-04,\n",
              "        1.75669222e-04, 2.70113582e-04, 2.27870536e-04, 2.72430625e-04,\n",
              "        1.88401056e-04, 2.04107593e-04, 2.72696430e-04, 1.48590450e-04,\n",
              "        1.04269726e-04, 1.86353558e-04, 3.17044964e-04, 1.75706591e-04,\n",
              "        1.79471375e-04, 3.14682256e-04, 3.73640796e-04, 2.74071470e-04,\n",
              "        1.75246882e-04, 1.40938966e-04, 2.59806809e-04, 1.27165506e-04,\n",
              "        1.61800272e-04, 1.68832004e-04, 1.84689736e-04, 2.70924415e-04,\n",
              "        1.88832579e-04, 3.64329026e-04, 1.56002978e-04, 2.38079505e-04,\n",
              "        1.40097254e-04, 1.23804843e-04, 2.30294871e-04, 7.22750789e-04,\n",
              "        2.75075785e-04, 6.87529173e-05, 2.68143194e-04, 1.34425922e-04,\n",
              "        1.83398821e-04, 3.03192006e-04, 2.26093762e-04, 1.25760242e-04,\n",
              "        2.47430988e-04, 1.85572528e-04, 1.70754560e-04, 1.05118103e-04,\n",
              "        2.40343099e-04, 3.37384321e-04, 3.87851003e-04, 2.36352047e-04,\n",
              "        2.88604875e-04, 3.84752173e-04, 3.24619497e-04, 3.76791868e-04,\n",
              "        2.92596989e-04, 3.00623622e-04, 1.51027882e-04, 2.39894158e-04,\n",
              "        2.82680587e-04, 1.71599851e-04, 1.00430647e-04, 9.78776516e-05,\n",
              "        1.19894066e-04, 1.95359986e-04, 2.12995248e-04, 3.59133439e-04,\n",
              "        8.38838241e-05, 1.68104365e-04, 1.81671974e-04, 2.54735030e-04,\n",
              "        1.98858004e-04, 2.62791640e-04, 4.57276765e-04, 3.14937759e-04,\n",
              "        5.51677134e-04, 7.62665586e-04, 3.25321453e-04, 2.02112671e-04,\n",
              "        3.23461572e-04, 4.82668343e-04, 2.24287869e-04, 8.82344611e-04,\n",
              "        2.30063175e-04, 1.50288513e-04, 1.71379725e-04, 3.43488005e-04,\n",
              "        1.17185882e-04, 5.26043354e-04, 2.59742257e-04, 7.00953417e-04,\n",
              "        4.59479110e-04, 5.74603910e-05, 1.83634213e-04, 2.54372833e-04,\n",
              "        2.11473176e-04, 1.35963288e-04, 7.64670986e-05, 6.42549305e-04,\n",
              "        3.32444732e-04, 1.16450698e-04, 1.26129686e-04, 1.57385785e-03,\n",
              "        7.68203579e-04, 3.54505406e-04, 7.37701892e-04, 1.12570880e-04,\n",
              "        1.17884869e-04, 9.60553079e-05, 1.08106069e-04, 3.49021459e-04,\n",
              "        5.11173930e-05, 1.47707426e-04, 5.03700983e-04, 1.38293384e-04,\n",
              "        2.76885374e-04, 2.20347836e-04, 9.85601146e-05, 2.25449563e-04,\n",
              "        1.59402422e-04, 1.13857976e-04, 1.81311945e-04, 2.04741969e-04,\n",
              "        2.44568597e-04, 4.08362568e-04, 1.14853450e-04, 1.01622049e-04,\n",
              "        1.93550790e-04, 4.70536848e-04, 2.29982325e-04, 4.63909208e-04,\n",
              "        7.95772285e-05, 2.73056445e-04, 9.60711623e-04, 6.03180670e-04,\n",
              "        2.39188827e-04, 1.22581230e-04, 1.89596598e-04, 2.95722508e-04,\n",
              "        1.48532796e-04, 3.57240526e-04, 1.69669089e-04, 1.55826332e-04,\n",
              "        1.33858819e-04, 2.13375431e-04, 3.07466515e-04, 1.65237609e-04,\n",
              "        2.05174132e-04, 9.63403509e-05, 1.58176423e-04, 2.31910701e-04,\n",
              "        2.51845311e-04, 3.66784720e-04, 1.11166170e-04, 1.45040016e-04,\n",
              "        1.60412892e-04, 3.81399766e-02, 2.17359702e-04, 1.32239511e-04,\n",
              "        2.10973420e-04, 1.31118228e-04, 4.99748494e-05, 2.18967543e-04,\n",
              "        1.18924982e-04, 9.03936598e-05, 1.52000121e-03, 6.33324162e-05,\n",
              "        1.19978133e-04, 1.77196518e-04, 7.89090191e-05, 1.86139368e-04,\n",
              "        5.32347243e-04, 2.36645574e-04, 1.33047710e-04, 3.50627321e-04,\n",
              "        3.20918945e-04, 1.21501042e-04, 1.00007434e-04, 2.50834652e-04,\n",
              "        2.76016683e-04, 1.80230680e-04, 9.03196866e-04, 7.91062048e-05,\n",
              "        8.49378775e-05, 3.75938136e-04, 5.36435218e-05, 1.80062489e-04,\n",
              "        6.60516598e-05, 1.79070266e-04, 1.75859634e-04, 1.86288540e-04,\n",
              "        3.24474648e-04, 2.42806098e-04, 7.78906906e-05, 1.19095668e-04,\n",
              "        5.59388427e-04, 1.62750643e-04, 2.50876386e-04, 2.53031234e-04,\n",
              "        1.37619252e-04, 2.01602146e-04, 1.90976134e-04, 1.48475141e-04,\n",
              "        1.36822040e-04, 1.81851370e-04, 8.16218962e-05, 2.66144663e-04,\n",
              "        1.07306027e-04, 1.39219163e-04, 1.59906413e-04, 2.13255815e-04,\n",
              "        2.24286385e-04, 1.50849111e-04, 1.59119460e-04, 3.30752053e-04,\n",
              "        5.75128885e-04, 8.42131776e-05, 1.97363741e-04, 3.02862143e-04,\n",
              "        1.54029709e-04, 1.66772876e-03, 1.54751906e-04, 6.59827201e-05,\n",
              "        1.26784304e-04, 1.42460849e-04, 1.67214894e-04, 7.59738250e-05,\n",
              "        2.52688187e-04, 2.27066383e-04, 2.96620274e-04, 1.63610588e-04,\n",
              "        2.55470746e-04, 8.41664441e-05, 1.15009316e-04, 7.66942278e-04,\n",
              "        1.66575846e-04, 1.09932982e-04, 2.79623404e-04, 8.67985145e-05,\n",
              "        2.06765602e-04, 2.83165689e-04, 3.43857420e-04, 1.29346678e-04,\n",
              "        1.53122819e-04, 2.55844265e-04, 1.29910899e-04, 1.04909377e-04,\n",
              "        2.63098045e-04, 2.40782887e-04, 8.28840857e-05, 3.17934668e-04,\n",
              "        5.36685227e-04, 1.29870765e-04, 8.92143653e-05, 1.79818802e-04,\n",
              "        1.96726862e-04, 1.32434769e-04, 1.30535700e-04, 1.63081888e-04,\n",
              "        2.48530530e-04, 3.29892850e-04, 4.68782848e-04, 2.00938783e-04,\n",
              "        1.35923998e-04, 7.96613604e-05, 1.93814209e-04, 1.06154839e-04,\n",
              "        1.13672344e-04, 1.13300681e-04, 4.41951328e-04, 9.94521833e-05,\n",
              "        1.56432492e-04, 1.80849835e-04, 4.27892111e-04, 1.18411859e-04,\n",
              "        2.17260196e-04, 1.26998741e-04, 9.13010954e-05, 1.49776140e-04,\n",
              "        4.60057869e-04, 2.33798142e-04, 2.09758073e-04, 5.71933742e-05,\n",
              "        1.66641781e-04, 6.69805886e-05, 9.19069498e-05, 2.02307841e-04,\n",
              "        2.09691454e-04, 3.32056428e-04, 1.47738974e-04, 1.14432965e-04,\n",
              "        7.19681047e-05, 2.15177570e-04, 1.26704035e-04, 1.01128593e-04,\n",
              "        1.20437377e-04, 2.08290323e-04, 7.68363971e-05, 2.37287735e-04,\n",
              "        3.40523868e-04, 1.47055383e-04, 6.81963563e-01, 2.19666763e-04,\n",
              "        2.74717691e-04, 1.16629541e-04, 5.74480917e-04, 4.64088836e-04,\n",
              "        3.01513006e-04, 2.34650419e-04, 7.41133190e-05, 7.57069429e-05,\n",
              "        7.94886728e-04, 7.79707334e-05, 3.93472699e-04, 1.58937328e-04,\n",
              "        3.26789595e-04, 2.03479052e-04, 1.72481567e-04, 1.05639680e-04,\n",
              "        1.86622827e-04, 9.91238121e-05, 4.95558779e-05, 1.10175744e-04,\n",
              "        1.16809300e-04, 8.66640257e-05, 1.54173147e-04, 1.68149287e-04,\n",
              "        4.68188431e-04, 2.52051017e-04, 1.13542071e-02, 7.88269273e-04,\n",
              "        4.13811678e-04, 1.18412987e-04, 1.97261368e-04, 3.86471918e-04,\n",
              "        1.36816554e-04, 7.13503905e-05, 2.25756783e-04, 1.80386312e-04,\n",
              "        1.73877983e-04, 2.51906225e-04, 2.03161646e-04, 1.27958541e-04,\n",
              "        3.82439612e-04, 1.86603444e-04, 1.72594941e-04, 4.87354584e-04,\n",
              "        1.63534787e-04, 6.86912463e-05, 1.85084180e-04, 1.39791635e-04,\n",
              "        1.74620101e-04, 1.06030791e-04, 3.14869307e-04, 4.48294537e-04,\n",
              "        1.59845877e-04, 7.04943232e-05, 1.28949599e-04, 5.53100486e-04,\n",
              "        1.37879630e-04, 1.21664991e-04, 8.67185081e-05, 2.73439655e-04,\n",
              "        1.37898547e-04, 1.37115669e-04, 1.04307823e-04, 3.90047266e-04,\n",
              "        1.57483591e-04, 9.39333331e-05, 3.56144999e-04, 2.43905830e-04,\n",
              "        3.99614859e-04, 4.97268571e-04, 1.22353013e-04, 9.36169236e-05,\n",
              "        1.25646708e-04, 1.39389871e-04, 1.03802013e-04, 9.28700538e-05,\n",
              "        9.22004183e-05, 3.43338354e-04, 5.48864264e-05, 2.63230584e-04,\n",
              "        2.66726420e-04, 1.47804647e-04, 1.70284417e-04, 1.80074159e-04,\n",
              "        7.58888855e-05, 1.43083779e-03, 2.65547365e-04, 1.44850768e-04,\n",
              "        1.13949558e-04, 1.16906376e-04, 2.17614390e-04, 2.58724700e-04,\n",
              "        1.22966318e-04, 1.48033461e-04, 1.16046380e-04, 2.08012003e-04,\n",
              "        3.05242458e-04, 5.91514945e-05, 1.82005097e-04, 1.65323043e-04,\n",
              "        2.60345783e-04, 5.02265349e-04, 2.82613299e-04, 2.95537553e-04,\n",
              "        1.81655691e-04, 2.39526897e-04, 1.90098479e-04, 1.88979422e-04,\n",
              "        1.72691914e-04, 1.95152184e-04, 4.91828250e-04, 9.94555085e-05,\n",
              "        1.70698710e-04, 5.84806781e-04, 1.13055445e-04, 1.33562222e-04,\n",
              "        1.80422765e-04, 1.25782186e-04, 1.05813298e-04, 2.59069522e-04,\n",
              "        1.59887044e-04, 8.63705354e-05, 3.83109087e-04, 4.55218717e-04,\n",
              "        2.06495242e-04, 5.64095972e-05, 1.54665744e-04, 2.92045966e-04,\n",
              "        1.81528725e-04, 6.45796899e-05, 1.59851217e-04, 1.31829293e-03,\n",
              "        9.33084302e-05, 4.61228396e-04, 9.72142661e-05, 1.24955055e-04,\n",
              "        5.07024270e-05, 6.28871639e-05, 4.13577538e-04, 2.84085603e-04,\n",
              "        1.28072948e-04, 2.61504203e-04, 9.42729239e-05, 1.95994857e-04,\n",
              "        3.96313757e-04, 1.43096317e-04, 5.28963865e-05, 2.33039958e-04,\n",
              "        3.11526412e-04, 2.09669466e-04, 1.75942521e-04, 8.92816897e-05,\n",
              "        2.50953221e-04, 2.37693937e-04, 1.01222380e-04, 1.74576635e-04,\n",
              "        4.77032328e-04, 1.17653391e-04, 9.23219341e-05, 2.17152512e-04,\n",
              "        1.70013780e-04, 1.16168303e-04, 2.60996967e-05, 3.49125476e-04,\n",
              "        1.84100994e-04, 1.28639935e-04, 5.86734932e-05, 1.16467032e-04,\n",
              "        8.96832862e-05, 2.23598268e-04, 1.90076535e-04, 2.73736456e-04,\n",
              "        7.46869773e-05, 2.36693188e-04, 1.81628668e-04, 2.13741834e-04,\n",
              "        9.44708299e-05, 1.46676786e-04, 1.29338427e-04, 1.73262175e-04,\n",
              "        1.46519378e-04, 3.69901769e-04, 1.02825725e-04, 1.05040839e-04,\n",
              "        6.42295054e-04, 9.07542009e-04, 1.84744000e-04, 1.30613407e-04,\n",
              "        1.25979059e-04, 3.52625590e-04, 2.54770392e-04, 1.03579921e-04,\n",
              "        1.15602350e-04, 3.78446101e-04, 4.29489628e-05, 1.20877863e-04,\n",
              "        5.04352269e-04, 2.10294253e-04, 1.81054143e-04, 1.30061264e-04,\n",
              "        1.39838172e-04, 1.52790817e-04, 2.43440925e-04, 2.21525843e-04,\n",
              "        1.07857893e-04, 1.80905554e-04, 1.15510215e-04, 1.87949001e-04,\n",
              "        4.90974868e-04, 1.34222748e-04, 2.45191797e-04, 1.69471954e-04,\n",
              "        2.86095630e-04, 3.50673305e-04, 2.20740505e-04, 2.66657356e-04,\n",
              "        2.49231089e-04, 1.67860548e-04, 3.41017207e-04, 1.88806996e-04,\n",
              "        1.37437994e-04, 1.62371900e-04, 3.25452711e-04, 1.54669280e-04,\n",
              "        3.88196990e-04, 4.49141895e-04, 1.47547471e-04, 1.59798627e-04,\n",
              "        5.97857761e-05, 3.43247354e-02, 2.76211940e-04, 2.23907686e-04,\n",
              "        1.00511032e-04, 1.27709252e-04, 6.02375003e-05, 1.51668020e-04,\n",
              "        1.32125802e-04, 1.41305834e-04, 1.24384722e-04, 1.20501943e-04,\n",
              "        2.22188522e-04, 5.24392934e-04, 1.78002039e-04, 4.60566880e-05,\n",
              "        2.43913950e-04, 2.52959930e-04, 3.82180762e-04, 1.38373856e-04,\n",
              "        1.68067825e-04, 7.22231271e-05, 9.15466284e-04, 1.06344633e-04,\n",
              "        1.30819593e-04, 2.47408199e-04, 1.93226020e-04, 1.06958847e-04,\n",
              "        7.53764107e-05, 1.40019064e-03, 6.67076165e-05, 2.25716314e-04,\n",
              "        1.58010429e-04, 5.96532773e-04, 1.26429921e-04, 2.37312735e-04,\n",
              "        1.16604737e-04, 2.67389230e-04, 1.60604381e-04, 1.40430202e-04,\n",
              "        1.56554874e-04, 2.58269516e-04, 6.00447893e-05, 1.45690472e-04,\n",
              "        5.17400040e-04, 1.84535619e-03, 1.91806088e-04, 2.84688635e-04,\n",
              "        2.41651520e-04, 1.15635870e-04, 1.79274299e-04, 6.80650337e-05,\n",
              "        2.23134732e-04, 5.66860908e-05, 4.86450968e-04, 1.62085373e-04,\n",
              "        4.76966125e-05, 4.05221537e-04, 2.17633278e-04, 5.03992895e-04,\n",
              "        2.52484635e-04, 4.39785217e-04, 2.42033348e-04, 2.25516866e-04,\n",
              "        1.79509530e-04, 2.86865950e-04, 2.24096322e-04, 1.12040718e-04,\n",
              "        1.53629793e-04, 1.58775380e-04, 1.49274201e-04, 1.31020043e-03,\n",
              "        2.07792327e-04, 1.99241433e-04, 1.58051422e-04, 2.34876788e-04,\n",
              "        3.20092018e-04, 1.83717755e-04, 1.43646932e-04, 2.49035656e-04,\n",
              "        2.78113730e-04, 1.17084906e-04, 2.17341876e-04, 9.07485664e-05,\n",
              "        1.88624690e-04, 7.85308730e-05, 1.38421106e-04, 1.30083718e-04,\n",
              "        1.05708612e-04, 2.99241510e-04, 8.74544276e-05, 2.05859935e-04,\n",
              "        2.34418476e-04, 1.89904778e-04, 2.29594123e-04, 1.18799268e-04,\n",
              "        3.06400791e-04, 3.52123054e-04, 4.12372174e-04, 6.34413795e-04,\n",
              "        2.61567708e-04, 1.62633034e-04, 1.05776169e-04, 2.13217587e-04,\n",
              "        1.09919667e-04, 4.02143080e-04, 2.26389355e-04, 1.65130798e-04,\n",
              "        3.82796832e-04, 1.66614933e-04, 1.23481979e-04, 1.36148316e-04,\n",
              "        2.30777892e-04, 1.06117288e-04, 2.34297782e-04, 2.40381269e-04,\n",
              "        1.03057806e-04, 2.24650503e-04, 7.93483632e-05, 1.47430459e-04,\n",
              "        1.08398854e-04, 1.96232577e-04, 1.24706712e-04, 3.37387988e-04,\n",
              "        1.08068976e-04, 1.39567055e-04, 1.14523689e-04, 1.78319242e-04,\n",
              "        2.91605422e-04, 1.06025233e-04, 2.24137548e-04, 1.94729422e-04,\n",
              "        2.08868980e-04, 1.51429835e-04, 1.80802395e-04, 2.59199122e-04,\n",
              "        3.82332597e-04, 1.80400224e-04, 2.94018653e-04, 2.12824685e-04,\n",
              "        2.95189093e-04, 2.51975434e-04, 2.64225673e-05, 1.89747821e-04,\n",
              "        2.07101271e-04, 2.05869757e-04, 4.28847066e-04, 1.33218113e-04,\n",
              "        1.12895781e-04, 1.57899995e-04, 1.94430657e-04, 2.63789989e-04,\n",
              "        3.20827006e-04, 2.70084071e-04, 3.43745924e-04, 2.48679658e-04,\n",
              "        2.78318563e-04, 3.25885048e-04, 1.71753592e-04, 1.73036969e-04]],\n",
              "      dtype=float32)"
            ]
          },
          "metadata": {},
          "execution_count": 16
        }
      ],
      "source": [
        "pred"
      ]
    },
    {
      "cell_type": "code",
      "execution_count": null,
      "metadata": {
        "colab": {
          "base_uri": "https://localhost:8080/"
        },
        "id": "V40MyQpmICvV",
        "outputId": "28eaa466-481e-4662-a80a-0219d0c6100c"
      },
      "outputs": [
        {
          "output_type": "stream",
          "name": "stdout",
          "text": [
            "Downloading data from https://storage.googleapis.com/download.tensorflow.org/data/imagenet_class_index.json\n",
            "\u001b[1m35363/35363\u001b[0m \u001b[32m━━━━━━━━━━━━━━━━━━━━\u001b[0m\u001b[37m\u001b[0m \u001b[1m0s\u001b[0m 1us/step\n"
          ]
        },
        {
          "output_type": "execute_result",
          "data": {
            "text/plain": [
              "[[('n03595614', 'jersey', np.float32(0.68196356)),\n",
              "  ('n02916936', 'bulletproof_vest', np.float32(0.038139977)),\n",
              "  ('n04370456', 'sweatshirt', np.float32(0.034324735)),\n",
              "  ('n03710637', 'maillot', np.float32(0.011354207)),\n",
              "  ('n04525038', 'velvet', np.float32(0.0018453562))]]"
            ]
          },
          "metadata": {},
          "execution_count": 17
        }
      ],
      "source": [
        "decode_predictions(pred)"
      ]
    },
    {
      "cell_type": "markdown",
      "metadata": {
        "id": "n1_0PDvWIoP8"
      },
      "source": [
        "In real this image is a t-shirt, but ImageNet is not very good when it comes to clothes detection."
      ]
    },
    {
      "cell_type": "markdown",
      "metadata": {
        "id": "hfQhTRY6q59d"
      },
      "source": [
        "Read and Preprocess training Data\n"
      ]
    },
    {
      "cell_type": "code",
      "execution_count": null,
      "metadata": {
        "colab": {
          "base_uri": "https://localhost:8080/"
        },
        "id": "mQrgK7pGIr66",
        "outputId": "9d3f9f36-994c-4bee-fa57-fb5797f4444e"
      },
      "outputs": [
        {
          "output_type": "stream",
          "name": "stdout",
          "text": [
            "Found 3068 images belonging to 10 classes.\n"
          ]
        }
      ],
      "source": [
        "\n",
        "train_gen = ImageDataGenerator(preprocessing_function=preprocess_input)\n",
        "\n",
        "train_ds = train_gen.flow_from_directory(\n",
        "    '/content/clothing-dataset-small/train',\n",
        "    target_size=(150, 150),\n",
        "    batch_size=32\n",
        ")"
      ]
    },
    {
      "cell_type": "code",
      "execution_count": null,
      "metadata": {
        "colab": {
          "base_uri": "https://localhost:8080/"
        },
        "id": "EzwW1pz_JpI8",
        "outputId": "80048dce-796f-4382-ff5b-7af263595d4d"
      },
      "outputs": [
        {
          "output_type": "execute_result",
          "data": {
            "text/plain": [
              "{'dress': 0,\n",
              " 'hat': 1,\n",
              " 'longsleeve': 2,\n",
              " 'outwear': 3,\n",
              " 'pants': 4,\n",
              " 'shirt': 5,\n",
              " 'shoes': 6,\n",
              " 'shorts': 7,\n",
              " 'skirt': 8,\n",
              " 't-shirt': 9}"
            ]
          },
          "metadata": {},
          "execution_count": 19
        }
      ],
      "source": [
        "train_ds.class_indices\n"
      ]
    },
    {
      "cell_type": "code",
      "execution_count": null,
      "metadata": {
        "colab": {
          "base_uri": "https://localhost:8080/"
        },
        "id": "V9prA5-IKXJd",
        "outputId": "5d341b07-a75c-4acd-aea6-1b4118bec0a7"
      },
      "outputs": [
        {
          "output_type": "stream",
          "name": "stdout",
          "text": [
            "/content\n"
          ]
        }
      ],
      "source": [
        "%cd /content"
      ]
    },
    {
      "cell_type": "code",
      "execution_count": null,
      "metadata": {
        "colab": {
          "base_uri": "https://localhost:8080/"
        },
        "id": "gtRxuoMIJpw8",
        "outputId": "742c19ff-4a3e-4990-fd79-6e50be7f95f7"
      },
      "outputs": [
        {
          "output_type": "stream",
          "name": "stdout",
          "text": [
            "dress  hat  longsleeve\toutwear  pants\tshirt  shoes  shorts  skirt  t-shirt\n"
          ]
        }
      ],
      "source": [
        "!ls clothing-dataset-small/train\n"
      ]
    },
    {
      "cell_type": "code",
      "execution_count": null,
      "metadata": {
        "colab": {
          "base_uri": "https://localhost:8080/"
        },
        "id": "7nH6RR4rJp34",
        "outputId": "6e5ed9de-6048-482b-87c4-bd6352ba73d6"
      },
      "outputs": [
        {
          "output_type": "execute_result",
          "data": {
            "text/plain": [
              "(array([[[[-0.01960784, -0.08235294, -0.16862744],\n",
              "          [ 0.09803927,  0.03529418, -0.05098039],\n",
              "          [ 0.09803927,  0.03529418, -0.05098039],\n",
              "          ...,\n",
              "          [ 0.6392157 ,  0.58431375,  0.5058824 ],\n",
              "          [ 0.6627451 ,  0.60784316,  0.5294118 ],\n",
              "          [ 0.6627451 ,  0.60784316,  0.5294118 ]],\n",
              " \n",
              "         [[-0.27058822, -0.3333333 , -0.41960782],\n",
              "          [ 0.18431377,  0.12156868,  0.03529418],\n",
              "          [ 0.03529418, -0.02745098, -0.11372548],\n",
              "          ...,\n",
              "          [ 0.54509807,  0.4901961 ,  0.41176474],\n",
              "          [ 0.654902  ,  0.6       ,  0.52156866],\n",
              "          [ 0.5372549 ,  0.48235297,  0.4039216 ]],\n",
              " \n",
              "         [[ 0.16078436,  0.09803927,  0.01176476],\n",
              "          [-0.16862744, -0.23137254, -0.31764704],\n",
              "          [-0.12941176, -0.19215685, -0.27843136],\n",
              "          ...,\n",
              "          [ 0.60784316,  0.5529412 ,  0.47450984],\n",
              "          [ 0.5294118 ,  0.47450984,  0.39607847],\n",
              "          [ 0.5686275 ,  0.5137255 ,  0.43529415]],\n",
              " \n",
              "         ...,\n",
              " \n",
              "         [[-0.29411763, -0.35686272, -0.44313723],\n",
              "          [-0.24705881, -0.3098039 , -0.3960784 ],\n",
              "          [-0.23137254, -0.29411763, -0.38039213],\n",
              "          ...,\n",
              "          [-0.12156862, -0.19215685, -0.32549018],\n",
              "          [-0.00392157, -0.0745098 , -0.20784312],\n",
              "          [-0.2235294 , -0.29411763, -0.42745095]],\n",
              " \n",
              "         [[-0.2862745 , -0.3490196 , -0.4352941 ],\n",
              "          [-0.21568626, -0.27843136, -0.36470586],\n",
              "          [-0.20784312, -0.27058822, -0.35686272],\n",
              "          ...,\n",
              "          [-0.2235294 , -0.29411763, -0.42745095],\n",
              "          [-0.10588235, -0.17647058, -0.3098039 ],\n",
              "          [ 0.04313731, -0.02745098, -0.1607843 ]],\n",
              " \n",
              "         [[-0.3098039 , -0.372549  , -0.4588235 ],\n",
              "          [-0.19999999, -0.26274508, -0.3490196 ],\n",
              "          [-0.34117645, -0.40392154, -0.49019605],\n",
              "          ...,\n",
              "          [-0.12941176, -0.19999999, -0.3333333 ],\n",
              "          [-0.23921567, -0.3098039 , -0.44313723],\n",
              "          [-0.16862744, -0.23921567, -0.372549  ]]],\n",
              " \n",
              " \n",
              "        [[[ 0.3803922 ,  0.34901965,  0.254902  ],\n",
              "          [ 0.38823533,  0.35686278,  0.26274514],\n",
              "          [ 0.38823533,  0.35686278,  0.26274514],\n",
              "          ...,\n",
              "          [ 0.3176471 ,  0.27058828,  0.17647064],\n",
              "          [ 0.30196083,  0.254902  ,  0.16078436],\n",
              "          [ 0.2941177 ,  0.24705887,  0.15294123]],\n",
              " \n",
              "         [[ 0.39607847,  0.36470592,  0.27058828],\n",
              "          [ 0.4039216 ,  0.37254906,  0.27843142],\n",
              "          [ 0.4039216 ,  0.37254906,  0.27843142],\n",
              "          ...,\n",
              "          [ 0.3176471 ,  0.27058828,  0.17647064],\n",
              "          [ 0.30196083,  0.254902  ,  0.16078436],\n",
              "          [ 0.2941177 ,  0.24705887,  0.15294123]],\n",
              " \n",
              "         [[ 0.41176474,  0.3803922 ,  0.28627455],\n",
              "          [ 0.41960788,  0.38823533,  0.2941177 ],\n",
              "          [ 0.427451  ,  0.39607847,  0.30196083],\n",
              "          ...,\n",
              "          [ 0.34901965,  0.30196083,  0.20784318],\n",
              "          [ 0.34901965,  0.30196083,  0.20784318],\n",
              "          [ 0.30980396,  0.26274514,  0.1686275 ]],\n",
              " \n",
              "         ...,\n",
              " \n",
              "         [[ 0.75686276,  0.7019608 ,  0.62352943],\n",
              "          [ 0.7490196 ,  0.69411767,  0.6156863 ],\n",
              "          [ 0.75686276,  0.7019608 ,  0.62352943],\n",
              "          ...,\n",
              "          [ 0.3803922 ,  0.34901965,  0.27843142],\n",
              "          [ 0.38823533,  0.35686278,  0.28627455],\n",
              "          [ 0.38823533,  0.35686278,  0.28627455]],\n",
              " \n",
              "         [[ 0.75686276,  0.7019608 ,  0.62352943],\n",
              "          [ 0.7647059 ,  0.70980394,  0.6313726 ],\n",
              "          [ 0.77254903,  0.7176471 ,  0.6392157 ],\n",
              "          ...,\n",
              "          [ 0.4039216 ,  0.37254906,  0.28627455],\n",
              "          [ 0.36470592,  0.33333337,  0.26274514],\n",
              "          [ 0.3411765 ,  0.30980396,  0.23921573]],\n",
              " \n",
              "         [[ 0.7490196 ,  0.69411767,  0.6156863 ],\n",
              "          [ 0.7647059 ,  0.70980394,  0.6313726 ],\n",
              "          [ 0.7647059 ,  0.70980394,  0.6313726 ],\n",
              "          ...,\n",
              "          [ 0.36470592,  0.3411765 ,  0.22352946],\n",
              "          [ 0.34901965,  0.3176471 ,  0.2313726 ],\n",
              "          [ 0.33333337,  0.30196083,  0.2313726 ]]],\n",
              " \n",
              " \n",
              "        [[[ 0.24705887, -0.47450978, -0.8745098 ],\n",
              "          [ 0.1686275 , -0.4980392 , -0.81960785],\n",
              "          [ 0.05882359, -0.4823529 , -0.70980394],\n",
              "          ...,\n",
              "          [-0.02745098,  0.21568632,  0.1686275 ],\n",
              "          [-0.01960784,  0.20784318,  0.1686275 ],\n",
              "          [-0.00392157,  0.21568632,  0.24705887]],\n",
              " \n",
              "         [[ 0.14509809, -0.46666664, -0.7490196 ],\n",
              "          [-0.0745098 , -0.56078434, -0.7411765 ],\n",
              "          [-0.5372549 , -0.90588236, -1.        ],\n",
              "          ...,\n",
              "          [ 0.58431375,  0.5529412 ,  0.48235297],\n",
              "          [ 0.6       ,  0.5686275 ,  0.47450984],\n",
              "          [ 0.5764706 ,  0.58431375,  0.45882356]],\n",
              " \n",
              "         [[ 0.06666672, -0.4352941 , -0.6313726 ],\n",
              "          [-0.5764706 , -0.9372549 , -1.        ],\n",
              "          [-0.4823529 , -0.7411765 , -0.85882354],\n",
              "          ...,\n",
              "          [ 0.69411767,  0.56078434,  0.43529415],\n",
              "          [ 0.69411767,  0.5764706 ,  0.427451  ],\n",
              "          [ 0.6784314 ,  0.5921569 ,  0.43529415]],\n",
              " \n",
              "         ...,\n",
              " \n",
              "         [[-0.654902  , -0.73333335, -0.8039216 ],\n",
              "          [-0.49019605, -0.5686275 , -0.6392157 ],\n",
              "          [-0.6313726 , -0.70980394, -0.78039217],\n",
              "          ...,\n",
              "          [ 0.48235297,  0.3803922 ,  0.24705887],\n",
              "          [-0.0745098 , -0.17647058, -0.32549018],\n",
              "          [ 0.06666672, -0.06666666, -0.2235294 ]],\n",
              " \n",
              "         [[-0.78039217, -0.85882354, -0.92941177],\n",
              "          [-0.7176471 , -0.79607844, -0.8666667 ],\n",
              "          [-0.5137255 , -0.5921569 , -0.6627451 ],\n",
              "          ...,\n",
              "          [ 0.45098042,  0.34901965,  0.20000005],\n",
              "          [-0.01960784, -0.11372548, -0.2862745 ],\n",
              "          [-0.0745098 , -0.19999999, -0.38039213]],\n",
              " \n",
              "         [[-0.7411765 , -0.81960785, -0.8901961 ],\n",
              "          [-0.69411767, -0.77254903, -0.84313726],\n",
              "          [-0.5764706 , -0.654902  , -0.7254902 ],\n",
              "          ...,\n",
              "          [-0.03529412, -0.1372549 , -0.2862745 ],\n",
              "          [-0.05098039, -0.14509803, -0.31764704],\n",
              "          [-0.1372549 , -0.26274508, -0.44313723]]],\n",
              " \n",
              " \n",
              "        ...,\n",
              " \n",
              " \n",
              "        [[[ 0.11372554,  0.10588241,  0.09019613],\n",
              "          [ 0.13725495,  0.12941182,  0.11372554],\n",
              "          [ 0.14509809,  0.13725495,  0.12156868],\n",
              "          ...,\n",
              "          [ 0.3411765 ,  0.3411765 ,  0.3411765 ],\n",
              "          [ 0.33333337,  0.33333337,  0.33333337],\n",
              "          [ 0.32549024,  0.32549024,  0.32549024]],\n",
              " \n",
              "         [[ 0.12941182,  0.12156868,  0.10588241],\n",
              "          [ 0.14509809,  0.13725495,  0.12156868],\n",
              "          [ 0.16078436,  0.15294123,  0.13725495],\n",
              "          ...,\n",
              "          [ 0.3411765 ,  0.3411765 ,  0.3411765 ],\n",
              "          [ 0.33333337,  0.33333337,  0.33333337],\n",
              "          [ 0.32549024,  0.32549024,  0.32549024]],\n",
              " \n",
              "         [[ 0.12156868,  0.11372554,  0.09803927],\n",
              "          [ 0.14509809,  0.13725495,  0.12156868],\n",
              "          [ 0.15294123,  0.14509809,  0.12941182],\n",
              "          ...,\n",
              "          [ 0.36470592,  0.36470592,  0.36470592],\n",
              "          [ 0.36470592,  0.36470592,  0.36470592],\n",
              "          [ 0.34901965,  0.34901965,  0.34901965]],\n",
              " \n",
              "         ...,\n",
              " \n",
              "         [[-0.05882353, -0.05882353, -0.05882353],\n",
              "          [-0.04313725, -0.04313725, -0.04313725],\n",
              "          [-0.04313725, -0.04313725, -0.04313725],\n",
              "          ...,\n",
              "          [ 0.04313731,  0.04313731,  0.04313731],\n",
              "          [ 0.04313731,  0.04313731,  0.04313731],\n",
              "          [ 0.02745104,  0.02745104,  0.02745104]],\n",
              " \n",
              "         [[-0.04313725, -0.04313725, -0.05882353],\n",
              "          [-0.04313725, -0.04313725, -0.05882353],\n",
              "          [-0.05098039, -0.05098039, -0.06666666],\n",
              "          ...,\n",
              "          [ 0.04313731,  0.02745104,  0.03529418],\n",
              "          [ 0.02745104,  0.01176476,  0.0196079 ],\n",
              "          [ 0.02745104,  0.01176476,  0.0196079 ]],\n",
              " \n",
              "         [[-0.06666666, -0.06666666, -0.08235294],\n",
              "          [-0.05098039, -0.05098039, -0.06666666],\n",
              "          [-0.04313725, -0.04313725, -0.05882353],\n",
              "          ...,\n",
              "          [ 0.00392163, -0.01176471, -0.00392157],\n",
              "          [-0.00392157, -0.01960784, -0.01176471],\n",
              "          [-0.01176471, -0.02745098, -0.01960784]]],\n",
              " \n",
              " \n",
              "        [[[ 0.1686275 ,  0.14509809, -0.00392157],\n",
              "          [ 0.4039216 ,  0.3803922 ,  0.2313726 ],\n",
              "          [ 0.41960788,  0.39607847,  0.24705887],\n",
              "          ...,\n",
              "          [-0.04313725, -0.09803921, -0.2235294 ],\n",
              "          [-0.26274508, -0.31764704, -0.44313723],\n",
              "          [ 0.12941182,  0.07450986, -0.05098039]],\n",
              " \n",
              "         [[ 0.30196083,  0.27843142,  0.12941182],\n",
              "          [ 0.19215691,  0.1686275 ,  0.0196079 ],\n",
              "          [-0.01960784, -0.04313725, -0.19215685],\n",
              "          ...,\n",
              "          [ 0.18431377,  0.12941182,  0.00392163],\n",
              "          [ 0.11372554,  0.05882359, -0.06666666],\n",
              "          [ 0.39607847,  0.3411765 ,  0.21568632]],\n",
              " \n",
              "         [[ 0.27058828,  0.24705887,  0.09803927],\n",
              "          [ 0.4901961 ,  0.4666667 ,  0.3176471 ],\n",
              "          [ 0.34901965,  0.32549024,  0.17647064],\n",
              "          ...,\n",
              "          [-0.01960784, -0.08235294, -0.16862744],\n",
              "          [ 0.21568632,  0.15294123,  0.06666672],\n",
              "          [ 0.14509809,  0.082353  , -0.00392157]],\n",
              " \n",
              "         ...,\n",
              " \n",
              "         [[-0.01176471, -0.09803921, -0.23921567],\n",
              "          [ 0.06666672, -0.01960784, -0.1607843 ],\n",
              "          [-0.18431371, -0.27058822, -0.41176468],\n",
              "          ...,\n",
              "          [-0.41960782, -0.47450978, -0.6156863 ],\n",
              "          [-0.11372548, -0.1372549 , -0.2862745 ],\n",
              "          [ 0.05098045,  0.02745104, -0.12156862]],\n",
              " \n",
              "         [[-0.24705881, -0.3098039 , -0.4588235 ],\n",
              "          [-0.20784312, -0.27058822, -0.41960782],\n",
              "          [-0.10588235, -0.16862744, -0.31764704],\n",
              "          ...,\n",
              "          [-0.24705881, -0.30196077, -0.44313723],\n",
              "          [-0.3333333 , -0.35686272, -0.5058824 ],\n",
              "          [ 0.30196083,  0.27843142,  0.12941182]],\n",
              " \n",
              "         [[-0.1607843 , -0.19999999, -0.35686272],\n",
              "          [-0.14509803, -0.18431371, -0.3333333 ],\n",
              "          [-0.11372548, -0.1607843 , -0.2862745 ],\n",
              "          ...,\n",
              "          [ 0.23921573,  0.18431377,  0.04313731],\n",
              "          [ 0.254902  ,  0.2313726 ,  0.082353  ],\n",
              "          [ 0.20784318,  0.18431377,  0.03529418]]],\n",
              " \n",
              " \n",
              "        [[[ 0.43529415,  0.32549024,  0.22352946],\n",
              "          [ 0.39607847,  0.32549024,  0.27058828],\n",
              "          [ 0.4039216 ,  0.3176471 ,  0.28627455],\n",
              "          ...,\n",
              "          [ 1.        ,  1.        ,  1.        ],\n",
              "          [ 1.        ,  1.        ,  1.        ],\n",
              "          [ 1.        ,  1.        ,  1.        ]],\n",
              " \n",
              "         [[ 0.4431373 ,  0.33333337,  0.2313726 ],\n",
              "          [ 0.39607847,  0.32549024,  0.27058828],\n",
              "          [ 0.4431373 ,  0.35686278,  0.32549024],\n",
              "          ...,\n",
              "          [ 1.        ,  1.        ,  1.        ],\n",
              "          [ 1.        ,  1.        ,  1.        ],\n",
              "          [ 1.        ,  1.        ,  1.        ]],\n",
              " \n",
              "         [[ 0.427451  ,  0.3176471 ,  0.21568632],\n",
              "          [ 0.41960788,  0.34901965,  0.2941177 ],\n",
              "          [ 0.4666667 ,  0.3803922 ,  0.34901965],\n",
              "          ...,\n",
              "          [ 1.        ,  1.        ,  1.        ],\n",
              "          [ 1.        ,  1.        ,  1.        ],\n",
              "          [ 1.        ,  1.        ,  1.        ]],\n",
              " \n",
              "         ...,\n",
              " \n",
              "         [[ 0.49803925,  0.41960788,  0.34901965],\n",
              "          [ 0.4901961 ,  0.41176474,  0.3411765 ],\n",
              "          [ 0.45882356,  0.3803922 ,  0.30980396],\n",
              "          ...,\n",
              "          [ 0.84313726,  0.77254903,  0.7176471 ],\n",
              "          [ 0.8745098 ,  0.8039216 ,  0.7490196 ],\n",
              "          [ 0.8666667 ,  0.8117647 ,  0.7647059 ]],\n",
              " \n",
              "         [[ 0.49803925,  0.41960788,  0.34901965],\n",
              "          [ 0.48235297,  0.4039216 ,  0.33333337],\n",
              "          [ 0.43529415,  0.35686278,  0.28627455],\n",
              "          ...,\n",
              "          [ 0.8509804 ,  0.78039217,  0.7254902 ],\n",
              "          [ 0.81960785,  0.7490196 ,  0.69411767],\n",
              "          [ 0.8980392 ,  0.84313726,  0.79607844]],\n",
              " \n",
              "         [[ 0.4901961 ,  0.41176474,  0.3411765 ],\n",
              "          [ 0.4431373 ,  0.36470592,  0.2941177 ],\n",
              "          [ 0.4039216 ,  0.32549024,  0.254902  ],\n",
              "          ...,\n",
              "          [ 0.81960785,  0.7490196 ,  0.69411767],\n",
              "          [ 0.827451  ,  0.75686276,  0.7019608 ],\n",
              "          [ 0.9137255 ,  0.85882354,  0.8117647 ]]]], dtype=float32),\n",
              " array([[0., 0., 0., 0., 0., 0., 0., 0., 0., 1.],\n",
              "        [0., 0., 0., 0., 0., 0., 0., 0., 1., 0.],\n",
              "        [0., 0., 0., 0., 0., 0., 0., 0., 0., 1.],\n",
              "        [0., 1., 0., 0., 0., 0., 0., 0., 0., 0.],\n",
              "        [0., 0., 0., 0., 0., 1., 0., 0., 0., 0.],\n",
              "        [0., 0., 0., 0., 0., 0., 0., 0., 0., 1.],\n",
              "        [0., 0., 0., 0., 0., 0., 0., 0., 0., 1.],\n",
              "        [0., 0., 0., 0., 1., 0., 0., 0., 0., 0.],\n",
              "        [0., 0., 0., 0., 0., 1., 0., 0., 0., 0.],\n",
              "        [0., 0., 0., 1., 0., 0., 0., 0., 0., 0.],\n",
              "        [0., 0., 0., 0., 0., 0., 1., 0., 0., 0.],\n",
              "        [0., 0., 0., 0., 0., 0., 0., 0., 0., 1.],\n",
              "        [0., 0., 0., 0., 1., 0., 0., 0., 0., 0.],\n",
              "        [0., 0., 0., 0., 0., 0., 0., 0., 1., 0.],\n",
              "        [0., 0., 1., 0., 0., 0., 0., 0., 0., 0.],\n",
              "        [0., 0., 0., 0., 0., 0., 1., 0., 0., 0.],\n",
              "        [0., 0., 0., 0., 0., 0., 0., 0., 1., 0.],\n",
              "        [0., 0., 1., 0., 0., 0., 0., 0., 0., 0.],\n",
              "        [1., 0., 0., 0., 0., 0., 0., 0., 0., 0.],\n",
              "        [0., 0., 0., 0., 0., 0., 0., 0., 0., 1.],\n",
              "        [0., 0., 0., 0., 0., 0., 0., 0., 0., 1.],\n",
              "        [0., 0., 0., 0., 0., 1., 0., 0., 0., 0.],\n",
              "        [0., 0., 0., 0., 0., 0., 0., 1., 0., 0.],\n",
              "        [1., 0., 0., 0., 0., 0., 0., 0., 0., 0.],\n",
              "        [0., 0., 0., 0., 0., 0., 0., 0., 0., 1.],\n",
              "        [0., 0., 0., 0., 1., 0., 0., 0., 0., 0.],\n",
              "        [0., 0., 1., 0., 0., 0., 0., 0., 0., 0.],\n",
              "        [0., 0., 0., 0., 0., 0., 0., 0., 1., 0.],\n",
              "        [0., 0., 1., 0., 0., 0., 0., 0., 0., 0.],\n",
              "        [0., 0., 0., 0., 0., 0., 0., 1., 0., 0.],\n",
              "        [1., 0., 0., 0., 0., 0., 0., 0., 0., 0.],\n",
              "        [0., 0., 0., 1., 0., 0., 0., 0., 0., 0.]], dtype=float32))"
            ]
          },
          "metadata": {},
          "execution_count": 22
        }
      ],
      "source": [
        "next(train_ds)\n"
      ]
    },
    {
      "cell_type": "code",
      "execution_count": null,
      "metadata": {
        "id": "TqcIbzKOJp60"
      },
      "outputs": [],
      "source": [
        "X, y = next(train_ds)"
      ]
    },
    {
      "cell_type": "code",
      "execution_count": null,
      "metadata": {
        "colab": {
          "base_uri": "https://localhost:8080/"
        },
        "id": "V4a3N0JoJp9j",
        "outputId": "f68ac5a3-4bc0-4e6a-db39-d0eabefc9a34"
      },
      "outputs": [
        {
          "output_type": "execute_result",
          "data": {
            "text/plain": [
              "array([[[[ 0.13725495, -0.12156862, -0.38039213],\n",
              "         [ 0.1686275 , -0.09019607, -0.3490196 ],\n",
              "         [ 0.18431377, -0.0745098 , -0.3333333 ],\n",
              "         ...,\n",
              "         [ 0.27058828, -0.00392157, -0.23921567],\n",
              "         [ 0.10588241, -0.16862744, -0.40392154],\n",
              "         [ 0.15294123, -0.12156862, -0.35686272]],\n",
              "\n",
              "        [[ 0.20000005, -0.05882353, -0.31764704],\n",
              "         [ 0.21568632, -0.04313725, -0.30196077],\n",
              "         [ 0.22352946, -0.03529412, -0.29411763],\n",
              "         ...,\n",
              "         [ 0.36470592,  0.09019613, -0.14509803],\n",
              "         [ 0.16078436, -0.11372548, -0.3490196 ],\n",
              "         [ 0.14509809, -0.12941176, -0.36470586]],\n",
              "\n",
              "        [[ 0.22352946, -0.03529412, -0.29411763],\n",
              "         [ 0.21568632, -0.04313725, -0.30196077],\n",
              "         [ 0.20784318, -0.05098039, -0.3098039 ],\n",
              "         ...,\n",
              "         [ 0.427451  ,  0.15294123, -0.08235294],\n",
              "         [ 0.27058828, -0.00392157, -0.23921567],\n",
              "         [ 0.15294123, -0.12156862, -0.35686272]],\n",
              "\n",
              "        ...,\n",
              "\n",
              "        [[ 0.24705887,  0.02745104, -0.1607843 ],\n",
              "         [ 0.28627455,  0.06666672, -0.12156862],\n",
              "         [ 0.28627455,  0.06666672, -0.12156862],\n",
              "         ...,\n",
              "         [ 0.5686275 ,  0.2941177 ,  0.07450986],\n",
              "         [ 0.56078434,  0.28627455,  0.06666672],\n",
              "         [ 0.5372549 ,  0.26274514,  0.04313731]],\n",
              "\n",
              "        [[ 0.23921573,  0.0196079 , -0.16862744],\n",
              "         [ 0.27843142,  0.04313731, -0.14509803],\n",
              "         [ 0.27843142,  0.04313731, -0.14509803],\n",
              "         ...,\n",
              "         [ 0.56078434,  0.28627455,  0.06666672],\n",
              "         [ 0.5529412 ,  0.27843142,  0.05882359],\n",
              "         [ 0.5294118 ,  0.254902  ,  0.03529418]],\n",
              "\n",
              "        [[ 0.22352946, -0.02745098, -0.20784312],\n",
              "         [ 0.26274514,  0.01176476, -0.16862744],\n",
              "         [ 0.24705887, -0.00392157, -0.18431371],\n",
              "         ...,\n",
              "         [ 0.5058824 ,  0.2313726 ,  0.01176476],\n",
              "         [ 0.5372549 ,  0.26274514,  0.04313731],\n",
              "         [ 0.52156866,  0.24705887,  0.02745104]]],\n",
              "\n",
              "\n",
              "       [[[-0.54509807, -0.6784314 , -0.7411765 ],\n",
              "         [-0.5529412 , -0.6862745 , -0.7647059 ],\n",
              "         [-0.5921569 , -0.7254902 , -0.8039216 ],\n",
              "         ...,\n",
              "         [-0.52156866, -0.654902  , -0.70980394],\n",
              "         [-0.52156866, -0.654902  , -0.70980394],\n",
              "         [-0.49019605, -0.62352943, -0.6784314 ]],\n",
              "\n",
              "        [[-0.54509807, -0.6784314 , -0.7411765 ],\n",
              "         [-0.52156866, -0.654902  , -0.73333335],\n",
              "         [-0.5686275 , -0.7019608 , -0.78039217],\n",
              "         ...,\n",
              "         [-0.5137255 , -0.64705884, -0.7019608 ],\n",
              "         [-0.52156866, -0.654902  , -0.70980394],\n",
              "         [-0.5058824 , -0.6392157 , -0.69411767]],\n",
              "\n",
              "        [[-0.5294118 , -0.6627451 , -0.7254902 ],\n",
              "         [-0.52156866, -0.654902  , -0.73333335],\n",
              "         [-0.54509807, -0.6784314 , -0.75686276],\n",
              "         ...,\n",
              "         [-0.4823529 , -0.6156863 , -0.67058825],\n",
              "         [-0.52156866, -0.654902  , -0.70980394],\n",
              "         [-0.5294118 , -0.6627451 , -0.7176471 ]],\n",
              "\n",
              "        ...,\n",
              "\n",
              "        [[-0.05882353, -0.12941176, -0.18431371],\n",
              "         [-0.05098039, -0.12156862, -0.17647058],\n",
              "         [-0.03529412, -0.10588235, -0.1607843 ],\n",
              "         ...,\n",
              "         [-0.32549018, -0.45098037, -0.5529412 ],\n",
              "         [-0.24705881, -0.372549  , -0.49019605],\n",
              "         [-0.3098039 , -0.4352941 , -0.56078434]],\n",
              "\n",
              "        [[-0.06666666, -0.16862744, -0.23137254],\n",
              "         [-0.01960784, -0.12156862, -0.18431371],\n",
              "         [-0.00392157, -0.10588235, -0.16862744],\n",
              "         ...,\n",
              "         [-0.30196077, -0.42745095, -0.5294118 ],\n",
              "         [-0.25490195, -0.38039213, -0.4980392 ],\n",
              "         [-0.3098039 , -0.4352941 , -0.56078434]],\n",
              "\n",
              "        [[-0.09019607, -0.20784312, -0.26274508],\n",
              "         [-0.09803921, -0.21568626, -0.27058822],\n",
              "         [-0.05882353, -0.17647058, -0.23137254],\n",
              "         ...,\n",
              "         [-0.35686272, -0.4823529 , -0.58431375],\n",
              "         [-0.3333333 , -0.4588235 , -0.5764706 ],\n",
              "         [-0.2862745 , -0.41176468, -0.5372549 ]]],\n",
              "\n",
              "\n",
              "       [[[ 0.5921569 ,  0.56078434,  0.4901961 ],\n",
              "         [ 0.6156863 ,  0.58431375,  0.5137255 ],\n",
              "         [ 0.60784316,  0.5764706 ,  0.5058824 ],\n",
              "         ...,\n",
              "         [ 0.60784316,  0.60784316,  0.54509807],\n",
              "         [ 0.6       ,  0.6       ,  0.5372549 ],\n",
              "         [ 0.5921569 ,  0.5921569 ,  0.5294118 ]],\n",
              "\n",
              "        [[ 0.60784316,  0.5764706 ,  0.5058824 ],\n",
              "         [ 0.6313726 ,  0.6       ,  0.5294118 ],\n",
              "         [ 0.62352943,  0.5921569 ,  0.52156866],\n",
              "         ...,\n",
              "         [ 0.62352943,  0.62352943,  0.56078434],\n",
              "         [ 0.6156863 ,  0.6156863 ,  0.5529412 ],\n",
              "         [ 0.60784316,  0.60784316,  0.54509807]],\n",
              "\n",
              "        [[ 0.6156863 ,  0.58431375,  0.5137255 ],\n",
              "         [ 0.62352943,  0.5921569 ,  0.52156866],\n",
              "         [ 0.6313726 ,  0.6       ,  0.5294118 ],\n",
              "         ...,\n",
              "         [ 0.6392157 ,  0.6392157 ,  0.5764706 ],\n",
              "         [ 0.6313726 ,  0.6313726 ,  0.5686275 ],\n",
              "         [ 0.62352943,  0.62352943,  0.56078434]],\n",
              "\n",
              "        ...,\n",
              "\n",
              "        [[-0.27843136, -0.34117645, -0.36470586],\n",
              "         [-0.19999999, -0.25490195, -0.30196077],\n",
              "         [-0.26274508, -0.31764704, -0.38039213],\n",
              "         ...,\n",
              "         [ 0.33333337,  0.33333337,  0.27058828],\n",
              "         [ 0.3176471 ,  0.3176471 ,  0.254902  ],\n",
              "         [ 0.3176471 ,  0.3176471 ,  0.254902  ]],\n",
              "\n",
              "        [[-0.38823527, -0.38039213, -0.42745095],\n",
              "         [-0.31764704, -0.31764704, -0.38039213],\n",
              "         [-0.24705881, -0.27058822, -0.34117645],\n",
              "         ...,\n",
              "         [ 0.3411765 ,  0.3176471 ,  0.27843142],\n",
              "         [ 0.33333337,  0.2941177 ,  0.27058828],\n",
              "         [ 0.33333337,  0.2941177 ,  0.27058828]],\n",
              "\n",
              "        [[-0.4588235 , -0.4352941 , -0.49019605],\n",
              "         [-0.3098039 , -0.30196077, -0.36470586],\n",
              "         [-0.35686272, -0.35686272, -0.4352941 ],\n",
              "         ...,\n",
              "         [ 0.32549024,  0.28627455,  0.26274514],\n",
              "         [ 0.3176471 ,  0.27843142,  0.254902  ],\n",
              "         [ 0.30980396,  0.27058828,  0.24705887]]],\n",
              "\n",
              "\n",
              "       ...,\n",
              "\n",
              "\n",
              "       [[[ 0.10588241, -0.02745098, -0.23137254],\n",
              "         [ 0.15294123,  0.0196079 , -0.18431371],\n",
              "         [ 0.19215691,  0.05882359, -0.14509803],\n",
              "         ...,\n",
              "         [ 0.1686275 ,  0.02745104, -0.1607843 ],\n",
              "         [ 0.12941182, -0.01176471, -0.19999999],\n",
              "         [ 0.13725495, -0.00392157, -0.19215685]],\n",
              "\n",
              "        [[ 0.12156868, -0.01176471, -0.21568626],\n",
              "         [ 0.1686275 ,  0.03529418, -0.16862744],\n",
              "         [ 0.20784318,  0.07450986, -0.12941176],\n",
              "         ...,\n",
              "         [ 0.18431377,  0.04313731, -0.14509803],\n",
              "         [ 0.19215691,  0.05098045, -0.1372549 ],\n",
              "         [ 0.18431377,  0.04313731, -0.14509803]],\n",
              "\n",
              "        [[ 0.1686275 ,  0.03529418, -0.16862744],\n",
              "         [ 0.18431377,  0.05098045, -0.15294117],\n",
              "         [ 0.22352946,  0.09019613, -0.11372548],\n",
              "         ...,\n",
              "         [ 0.20784318,  0.06666672, -0.12156862],\n",
              "         [ 0.20000005,  0.05882359, -0.12941176],\n",
              "         [ 0.19215691,  0.05098045, -0.1372549 ]],\n",
              "\n",
              "        ...,\n",
              "\n",
              "        [[-0.00392157, -0.14509803, -0.3333333 ],\n",
              "         [-0.01960784, -0.1607843 , -0.3490196 ],\n",
              "         [ 0.01176476, -0.12941176, -0.31764704],\n",
              "         ...,\n",
              "         [ 0.16078436, -0.02745098, -0.23137254],\n",
              "         [ 0.13725495, -0.05098039, -0.25490195],\n",
              "         [ 0.14509809, -0.04313725, -0.24705881]],\n",
              "\n",
              "        [[-0.02745098, -0.16862744, -0.35686272],\n",
              "         [ 0.0196079 , -0.12156862, -0.3098039 ],\n",
              "         [ 0.00392163, -0.1372549 , -0.32549018],\n",
              "         ...,\n",
              "         [ 0.16078436, -0.02745098, -0.23137254],\n",
              "         [ 0.12156868, -0.06666666, -0.27058822],\n",
              "         [ 0.14509809, -0.04313725, -0.24705881]],\n",
              "\n",
              "        [[-0.04313725, -0.18431371, -0.35686272],\n",
              "         [-0.02745098, -0.16862744, -0.34117645],\n",
              "         [-0.01960784, -0.1607843 , -0.3333333 ],\n",
              "         ...,\n",
              "         [ 0.09803927, -0.06666666, -0.27843136],\n",
              "         [ 0.082353  , -0.08235294, -0.29411763],\n",
              "         [ 0.082353  , -0.08235294, -0.29411763]]],\n",
              "\n",
              "\n",
              "       [[[-0.0745098 , -0.19999999, -0.40392154],\n",
              "         [-0.0745098 , -0.19999999, -0.40392154],\n",
              "         [-0.09803921, -0.2235294 , -0.42745095],\n",
              "         ...,\n",
              "         [-0.5764706 , -0.6392157 , -0.8039216 ],\n",
              "         [-0.5137255 , -0.6392157 , -0.81960785],\n",
              "         [-0.4588235 , -0.5921569 , -0.79607844]],\n",
              "\n",
              "        [[-0.01176471, -0.1372549 , -0.34117645],\n",
              "         [-0.01176471, -0.1372549 , -0.34117645],\n",
              "         [ 0.00392163, -0.12156862, -0.32549018],\n",
              "         ...,\n",
              "         [-0.56078434, -0.62352943, -0.7882353 ],\n",
              "         [-0.4980392 , -0.62352943, -0.8039216 ],\n",
              "         [-0.44313723, -0.5764706 , -0.78039217]],\n",
              "\n",
              "        [[-0.17647058, -0.30196077, -0.5058824 ],\n",
              "         [-0.12156862, -0.24705881, -0.45098037],\n",
              "         [-0.09803921, -0.2235294 , -0.42745095],\n",
              "         ...,\n",
              "         [-0.4823529 , -0.54509807, -0.70980394],\n",
              "         [-0.49019605, -0.6156863 , -0.79607844],\n",
              "         [-0.4588235 , -0.5921569 , -0.79607844]],\n",
              "\n",
              "        ...,\n",
              "\n",
              "        [[ 0.84313726,  0.8039216 ,  0.78039217],\n",
              "         [ 0.85882354,  0.81960785,  0.79607844],\n",
              "         [ 0.8117647 ,  0.77254903,  0.7490196 ],\n",
              "         ...,\n",
              "         [ 0.67058825,  0.6313726 ,  0.60784316],\n",
              "         [ 0.49803925,  0.45882356,  0.41176474],\n",
              "         [ 0.00392163, -0.02745098, -0.11372548]],\n",
              "\n",
              "        [[ 0.827451  ,  0.7882353 ,  0.75686276],\n",
              "         [ 0.9843137 ,  0.94509804,  0.92156863],\n",
              "         [ 0.92941177,  0.8901961 ,  0.8666667 ],\n",
              "         ...,\n",
              "         [ 0.62352943,  0.5921569 ,  0.5686275 ],\n",
              "         [ 0.8039216 ,  0.78039217,  0.7254902 ],\n",
              "         [ 0.254902  ,  0.2313726 ,  0.16078436]],\n",
              "\n",
              "        [[ 0.9607843 ,  0.92156863,  0.8745098 ],\n",
              "         [ 0.49803925,  0.45882356,  0.41176474],\n",
              "         [ 0.56078434,  0.52156866,  0.4901961 ],\n",
              "         ...,\n",
              "         [ 0.38823533,  0.3803922 ,  0.3411765 ],\n",
              "         [ 0.7019608 ,  0.70980394,  0.64705884],\n",
              "         [ 0.26274514,  0.28627455,  0.21568632]]],\n",
              "\n",
              "\n",
              "       [[[-0.06666666, -0.10588235, -0.25490195],\n",
              "         [-0.05098039, -0.12156862, -0.25490195],\n",
              "         [-0.05098039, -0.14509803, -0.27058822],\n",
              "         ...,\n",
              "         [ 0.20000005,  0.09019613, -0.01176471],\n",
              "         [ 0.27843142,  0.18431377,  0.07450986],\n",
              "         [ 0.27843142,  0.18431377,  0.07450986]],\n",
              "\n",
              "        [[-0.05882353, -0.09803921, -0.24705881],\n",
              "         [-0.03529412, -0.10588235, -0.23921567],\n",
              "         [-0.04313725, -0.1372549 , -0.26274508],\n",
              "         ...,\n",
              "         [ 0.1686275 ,  0.05882359, -0.04313725],\n",
              "         [ 0.2941177 ,  0.20000005,  0.09019613],\n",
              "         [ 0.3176471 ,  0.22352946,  0.11372554]],\n",
              "\n",
              "        [[-0.05098039, -0.09019607, -0.23921567],\n",
              "         [-0.03529412, -0.10588235, -0.23921567],\n",
              "         [-0.04313725, -0.1372549 , -0.26274508],\n",
              "         ...,\n",
              "         [ 0.11372554,  0.00392163, -0.09803921],\n",
              "         [ 0.16078436,  0.06666672, -0.04313725],\n",
              "         [ 0.3803922 ,  0.28627455,  0.17647064]],\n",
              "\n",
              "        ...,\n",
              "\n",
              "        [[ 0.2313726 ,  0.082353  , -0.03529412],\n",
              "         [ 0.22352946,  0.07450986, -0.04313725],\n",
              "         [ 0.22352946,  0.07450986, -0.04313725],\n",
              "         ...,\n",
              "         [ 0.5294118 ,  0.43529415,  0.3411765 ],\n",
              "         [ 0.47450984,  0.36470592,  0.26274514],\n",
              "         [ 0.4666667 ,  0.3411765 ,  0.23921573]],\n",
              "\n",
              "        [[ 0.2313726 ,  0.082353  , -0.05098039],\n",
              "         [ 0.22352946,  0.07450986, -0.04313725],\n",
              "         [ 0.22352946,  0.07450986, -0.04313725],\n",
              "         ...,\n",
              "         [ 0.5294118 ,  0.43529415,  0.32549024],\n",
              "         [ 0.48235297,  0.37254906,  0.27058828],\n",
              "         [ 0.4666667 ,  0.3411765 ,  0.23921573]],\n",
              "\n",
              "        [[ 0.22352946,  0.082353  , -0.09019607],\n",
              "         [ 0.2313726 ,  0.09019613, -0.06666666],\n",
              "         [ 0.20784318,  0.05882359, -0.0745098 ],\n",
              "         ...,\n",
              "         [ 0.4666667 ,  0.37254906,  0.26274514],\n",
              "         [ 0.49803925,  0.39607847,  0.26274514],\n",
              "         [ 0.427451  ,  0.30196083,  0.17647064]]]], dtype=float32)"
            ]
          },
          "metadata": {},
          "execution_count": 24
        }
      ],
      "source": [
        "X"
      ]
    },
    {
      "cell_type": "code",
      "execution_count": null,
      "metadata": {
        "colab": {
          "base_uri": "https://localhost:8080/"
        },
        "id": "Va-N8bbWJqAg",
        "outputId": "ae72ea04-aab0-4791-e55b-3489eb020677"
      },
      "outputs": [
        {
          "output_type": "execute_result",
          "data": {
            "text/plain": [
              "(32, 150, 150, 3)"
            ]
          },
          "metadata": {},
          "execution_count": 25
        }
      ],
      "source": [
        "X.shape"
      ]
    },
    {
      "cell_type": "code",
      "execution_count": null,
      "metadata": {
        "colab": {
          "base_uri": "https://localhost:8080/"
        },
        "id": "xOw8wJa4JqHS",
        "outputId": "ed059e55-59ae-4f4f-9e4c-9a7d24c21be1"
      },
      "outputs": [
        {
          "output_type": "execute_result",
          "data": {
            "text/plain": [
              "{'dress': 0,\n",
              " 'hat': 1,\n",
              " 'longsleeve': 2,\n",
              " 'outwear': 3,\n",
              " 'pants': 4,\n",
              " 'shirt': 5,\n",
              " 'shoes': 6,\n",
              " 'shorts': 7,\n",
              " 'skirt': 8,\n",
              " 't-shirt': 9}"
            ]
          },
          "metadata": {},
          "execution_count": 26
        }
      ],
      "source": [
        "train_ds.class_indices\n"
      ]
    },
    {
      "cell_type": "code",
      "execution_count": null,
      "metadata": {
        "colab": {
          "base_uri": "https://localhost:8080/"
        },
        "id": "p4EzV0ggTQPV",
        "outputId": "a340bbf4-6b69-496b-a80e-4a4ee65200f0"
      },
      "outputs": [
        {
          "output_type": "execute_result",
          "data": {
            "text/plain": [
              "array([[0., 0., 1., 0., 0., 0., 0., 0., 0., 0.],\n",
              "       [0., 0., 0., 0., 0., 0., 0., 0., 0., 1.],\n",
              "       [0., 0., 0., 0., 1., 0., 0., 0., 0., 0.],\n",
              "       [0., 0., 0., 0., 0., 0., 0., 0., 0., 1.],\n",
              "       [0., 0., 0., 0., 0., 0., 0., 0., 0., 1.]], dtype=float32)"
            ]
          },
          "metadata": {},
          "execution_count": 27
        }
      ],
      "source": [
        "y[:5]"
      ]
    },
    {
      "cell_type": "markdown",
      "metadata": {
        "id": "wJNpP4R7rNnc"
      },
      "source": [
        "Read and Preprocess Validation Data\n"
      ]
    },
    {
      "cell_type": "code",
      "execution_count": null,
      "metadata": {
        "colab": {
          "base_uri": "https://localhost:8080/"
        },
        "id": "gUIdO1yBTQdA",
        "outputId": "1ebb0a03-423d-415a-ca46-f49604fedb5b"
      },
      "outputs": [
        {
          "output_type": "stream",
          "name": "stdout",
          "text": [
            "Found 341 images belonging to 10 classes.\n"
          ]
        }
      ],
      "source": [
        "val_gen = ImageDataGenerator(preprocessing_function=preprocess_input)\n",
        "\n",
        "val_ds = val_gen.flow_from_directory(\n",
        "    './clothing-dataset-small/validation',\n",
        "    target_size=(150, 150),\n",
        "    batch_size=32,\n",
        "    shuffle=False\n",
        ")"
      ]
    },
    {
      "cell_type": "code",
      "execution_count": null,
      "metadata": {
        "colab": {
          "base_uri": "https://localhost:8080/"
        },
        "id": "PTgkpHzZTQsE",
        "outputId": "b2c5ee4a-164d-4994-8682-522d4939b5e2"
      },
      "outputs": [
        {
          "output_type": "execute_result",
          "data": {
            "text/plain": [
              "<keras.src.legacy.preprocessing.image.DirectoryIterator at 0x78d6bfa93f10>"
            ]
          },
          "metadata": {},
          "execution_count": 29
        }
      ],
      "source": [
        "train_ds"
      ]
    },
    {
      "cell_type": "markdown",
      "metadata": {
        "id": "JvavTqiFrm35"
      },
      "source": [
        "Collect Full Training Data into NumPy Arrays"
      ]
    },
    {
      "cell_type": "code",
      "execution_count": null,
      "metadata": {
        "colab": {
          "base_uri": "https://localhost:8080/"
        },
        "id": "6zTM0gZWTQ37",
        "outputId": "3a259c04-9d0b-4d5a-8810-d537e4f74281"
      },
      "outputs": [
        {
          "output_type": "stream",
          "name": "stdout",
          "text": [
            "shape of X_all: (3068, 150, 150, 3)\n",
            "shape of y_all: (3068, 10)\n"
          ]
        }
      ],
      "source": [
        "X_all = []\n",
        "y_all = []\n",
        "\n",
        "for X_batch, y_batch in train_ds:\n",
        "    X_all.append(X_batch)\n",
        "    y_all.append(y_batch)\n",
        "\n",
        "    if len(X_all) * train_ds.batch_size >= train_ds.samples:\n",
        "        break\n",
        "\n",
        "X_all = np.concatenate(X_all)\n",
        "y_all = np.concatenate(y_all)\n",
        "\n",
        "print(\"shape of X_all:\", X_all.shape)\n",
        "print(\"shape of y_all:\", y_all.shape)\n"
      ]
    },
    {
      "cell_type": "markdown",
      "metadata": {
        "id": "PsYPFPKZr3ks"
      },
      "source": [
        "Train Xception on smaller images"
      ]
    },
    {
      "cell_type": "code",
      "execution_count": null,
      "metadata": {
        "colab": {
          "base_uri": "https://localhost:8080/"
        },
        "id": "YIsAr_IQr3_u",
        "outputId": "4cccf905-81df-4bcb-ce9d-d752da925546"
      },
      "outputs": [
        {
          "output_type": "stream",
          "name": "stdout",
          "text": [
            "Downloading data from https://storage.googleapis.com/tensorflow/keras-applications/xception/xception_weights_tf_dim_ordering_tf_kernels_notop.h5\n",
            "\u001b[1m83683744/83683744\u001b[0m \u001b[32m━━━━━━━━━━━━━━━━━━━━\u001b[0m\u001b[37m\u001b[0m \u001b[1m4s\u001b[0m 0us/step\n"
          ]
        }
      ],
      "source": [
        "base_model = Xception(\n",
        "    weights='imagenet',\n",
        "    include_top=False,\n",
        "    input_shape=(150, 150, 3)\n",
        ")\n",
        "\n",
        "base_model.trainable = False"
      ]
    },
    {
      "cell_type": "markdown",
      "metadata": {
        "id": "hB_L97Wa2ZSS"
      },
      "source": [
        "Getting Feature map Using the Base Model\n"
      ]
    },
    {
      "cell_type": "code",
      "execution_count": null,
      "metadata": {
        "colab": {
          "base_uri": "https://localhost:8080/"
        },
        "id": "F3uKq2VNr5Ic",
        "outputId": "34ebcdb8-ccf6-445b-af3c-6bc4537c2a9c"
      },
      "outputs": [
        {
          "output_type": "stream",
          "name": "stdout",
          "text": [
            "\u001b[1m1/1\u001b[0m \u001b[32m━━━━━━━━━━━━━━━━━━━━\u001b[0m\u001b[37m\u001b[0m \u001b[1m6s\u001b[0m 6s/step\n"
          ]
        },
        {
          "output_type": "execute_result",
          "data": {
            "text/plain": [
              "(32, 5, 5, 2048)"
            ]
          },
          "metadata": {},
          "execution_count": 29
        }
      ],
      "source": [
        "inputs = keras.Input(shape=(150, 150, 3))\n",
        "base = base_model(inputs)\n",
        "outputs = base\n",
        "model = keras.Model(inputs, outputs)\n",
        "preds = model.predict(X)\n",
        "\n",
        "preds.shape\n"
      ]
    },
    {
      "cell_type": "markdown",
      "metadata": {
        "id": "ovk_YcMAO_Ug"
      },
      "source": [
        "Converting Feature Maps to Vectors with Global Average Pooling"
      ]
    },
    {
      "cell_type": "code",
      "execution_count": null,
      "metadata": {
        "colab": {
          "base_uri": "https://localhost:8080/"
        },
        "id": "QOTZiquxPAPh",
        "outputId": "dd3cac5d-4b22-4c46-a132-747595103607"
      },
      "outputs": [
        {
          "output_type": "stream",
          "name": "stdout",
          "text": [
            "\u001b[1m1/1\u001b[0m \u001b[32m━━━━━━━━━━━━━━━━━━━━\u001b[0m\u001b[37m\u001b[0m \u001b[1m2s\u001b[0m 2s/step\n"
          ]
        },
        {
          "output_type": "execute_result",
          "data": {
            "text/plain": [
              "(32, 2048)"
            ]
          },
          "metadata": {},
          "execution_count": 30
        }
      ],
      "source": [
        "inputs = keras.Input(shape=(150, 150, 3))\n",
        "base = base_model(inputs)\n",
        "\n",
        "pooling = keras.layers.GlobalAveragePooling2D()\n",
        "vectors = pooling(base)\n",
        "outputs = vectors\n",
        "\n",
        "model = keras.Model(inputs, outputs)\n",
        "preds = model.predict(X)\n",
        "\n",
        "preds.shape\n"
      ]
    },
    {
      "cell_type": "markdown",
      "metadata": {
        "id": "6Zzm7DyVQscl"
      },
      "source": [
        "Building the Classification Layer"
      ]
    },
    {
      "cell_type": "code",
      "execution_count": null,
      "metadata": {
        "colab": {
          "base_uri": "https://localhost:8080/"
        },
        "id": "iMilu9hRPH-t",
        "outputId": "31df0ef1-cecc-48ad-ba8d-a337cb12b6fc"
      },
      "outputs": [
        {
          "output_type": "stream",
          "name": "stdout",
          "text": [
            "\u001b[1m1/1\u001b[0m \u001b[32m━━━━━━━━━━━━━━━━━━━━\u001b[0m\u001b[37m\u001b[0m \u001b[1m3s\u001b[0m 3s/step\n"
          ]
        },
        {
          "output_type": "execute_result",
          "data": {
            "text/plain": [
              "(32, 10)"
            ]
          },
          "metadata": {},
          "execution_count": 31
        }
      ],
      "source": [
        "inputs = keras.Input(shape=(150, 150, 3))\n",
        "\n",
        "base = base_model(inputs)\n",
        "vectors = keras.layers.GlobalAveragePooling2D()(base)\n",
        "outputs = keras.layers.Dense(10)(vectors)\n",
        "model = keras.Model(inputs, outputs)\n",
        "\n",
        "preds = model.predict(X)\n",
        "preds.shape\n"
      ]
    },
    {
      "cell_type": "markdown",
      "metadata": {
        "id": "kENqo6B6Snx7"
      },
      "source": [
        "prediction for random image"
      ]
    },
    {
      "cell_type": "code",
      "execution_count": null,
      "metadata": {
        "colab": {
          "base_uri": "https://localhost:8080/"
        },
        "id": "Rq249oFESwie",
        "outputId": "4b06bf74-7464-4f0f-de4a-00bd67629b68"
      },
      "outputs": [
        {
          "output_type": "stream",
          "name": "stderr",
          "text": [
            "WARNING:tensorflow:5 out of the last 5 calls to <function TensorFlowTrainer.make_predict_function.<locals>.one_step_on_data_distributed at 0x7de784438c20> triggered tf.function retracing. Tracing is expensive and the excessive number of tracings could be due to (1) creating @tf.function repeatedly in a loop, (2) passing tensors with different shapes, (3) passing Python objects instead of tensors. For (1), please define your @tf.function outside of the loop. For (2), @tf.function has reduce_retracing=True option that can avoid unnecessary retracing. For (3), please refer to https://www.tensorflow.org/guide/function#controlling_retracing and https://www.tensorflow.org/api_docs/python/tf/function for  more details.\n"
          ]
        },
        {
          "output_type": "stream",
          "name": "stdout",
          "text": [
            "\u001b[1m1/1\u001b[0m \u001b[32m━━━━━━━━━━━━━━━━━━━━\u001b[0m\u001b[37m\u001b[0m \u001b[1m3s\u001b[0m 3s/step\n"
          ]
        },
        {
          "output_type": "execute_result",
          "data": {
            "text/plain": [
              "(32, 10)"
            ]
          },
          "metadata": {},
          "execution_count": 32
        }
      ],
      "source": [
        "base_model = Xception(\n",
        "    weights='imagenet',\n",
        "    include_top=False,\n",
        "    input_shape=(150, 150, 3)\n",
        ")\n",
        "\n",
        "base_model.trainable = False\n",
        "inputs = keras.Input(shape=(150, 150, 3))\n",
        "base = base_model(inputs, training=False)\n",
        "vectors = keras.layers.GlobalAveragePooling2D()(base)\n",
        "outputs = keras.layers.Dense(10)(vectors)\n",
        "model = keras.Model(inputs, outputs)\n",
        "\n",
        "preds = model.predict(X)\n",
        "preds.shape"
      ]
    },
    {
      "cell_type": "code",
      "execution_count": null,
      "metadata": {
        "colab": {
          "base_uri": "https://localhost:8080/"
        },
        "id": "Duy_wmaNSxgY",
        "outputId": "dba4d81b-6d1b-4a9b-ba90-915a86146edd"
      },
      "outputs": [
        {
          "output_type": "execute_result",
          "data": {
            "text/plain": [
              "array([-0.38343728,  0.0044297 , -0.340872  , -0.39861095,  0.20758826,\n",
              "       -1.3773937 , -0.67379665,  0.07285699, -2.2716904 , -0.33114502],\n",
              "      dtype=float32)"
            ]
          },
          "metadata": {},
          "execution_count": 33
        }
      ],
      "source": [
        "preds[0]"
      ]
    },
    {
      "cell_type": "markdown",
      "metadata": {
        "id": "Zu8XhjP1TyMP"
      },
      "source": [
        "the model outputs here just random numbers because we haven’t trained the model yet"
      ]
    },
    {
      "cell_type": "markdown",
      "metadata": {
        "id": "Pio6NwcrZACh"
      },
      "source": [
        "model training"
      ]
    },
    {
      "cell_type": "code",
      "execution_count": null,
      "metadata": {
        "id": "1gUyDg2EZEY-"
      },
      "outputs": [],
      "source": [
        "learning_rate = 0.01\n",
        "optimizer = keras.optimizers.Adam(learning_rate=learning_rate)\n",
        "\n",
        "loss = keras.losses.CategoricalCrossentropy(from_logits=True)\n",
        "\n",
        "model.compile(optimizer=optimizer, loss=loss, metrics=['accuracy'])"
      ]
    },
    {
      "cell_type": "code",
      "execution_count": null,
      "metadata": {
        "colab": {
          "base_uri": "https://localhost:8080/",
          "height": 480
        },
        "id": "_k1O_c3eZIqi",
        "outputId": "221afe77-e268-4d88-c6b2-fcd85956bffd"
      },
      "outputs": [
        {
          "output_type": "stream",
          "name": "stderr",
          "text": [
            "/usr/local/lib/python3.11/dist-packages/keras/src/trainers/data_adapters/py_dataset_adapter.py:121: UserWarning: Your `PyDataset` class should call `super().__init__(**kwargs)` in its constructor. `**kwargs` can include `workers`, `use_multiprocessing`, `max_queue_size`. Do not pass these arguments to `fit()`, as they will be ignored.\n",
            "  self._warn_if_super_not_called()\n"
          ]
        },
        {
          "output_type": "stream",
          "name": "stdout",
          "text": [
            "Epoch 1/10\n",
            "\u001b[1m96/96\u001b[0m \u001b[32m━━━━━━━━━━━━━━━━━━━━\u001b[0m\u001b[37m\u001b[0m \u001b[1m27s\u001b[0m 211ms/step - accuracy: 0.5993 - loss: 1.4634 - val_accuracy: 0.7155 - val_loss: 1.1378\n",
            "Epoch 2/10\n",
            "\u001b[1m96/96\u001b[0m \u001b[32m━━━━━━━━━━━━━━━━━━━━\u001b[0m\u001b[37m\u001b[0m \u001b[1m8s\u001b[0m 80ms/step - accuracy: 0.8314 - loss: 0.5303 - val_accuracy: 0.7859 - val_loss: 0.8576\n",
            "Epoch 3/10\n",
            "\u001b[1m96/96\u001b[0m \u001b[32m━━━━━━━━━━━━━━━━━━━━\u001b[0m\u001b[37m\u001b[0m \u001b[1m10s\u001b[0m 74ms/step - accuracy: 0.8806 - loss: 0.3420 - val_accuracy: 0.7918 - val_loss: 0.9584\n",
            "Epoch 4/10\n",
            "\u001b[1m32/96\u001b[0m \u001b[32m━━━━━━\u001b[0m\u001b[37m━━━━━━━━━━━━━━\u001b[0m \u001b[1m4s\u001b[0m 75ms/step - accuracy: 0.9183 - loss: 0.2130"
          ]
        },
        {
          "output_type": "error",
          "ename": "KeyboardInterrupt",
          "evalue": "",
          "traceback": [
            "\u001b[0;31m---------------------------------------------------------------------------\u001b[0m",
            "\u001b[0;31mKeyboardInterrupt\u001b[0m                         Traceback (most recent call last)",
            "\u001b[0;32m<ipython-input-35-92d3d4bc7574>\u001b[0m in \u001b[0;36m<cell line: 0>\u001b[0;34m()\u001b[0m\n\u001b[0;32m----> 1\u001b[0;31m \u001b[0mmodel\u001b[0m\u001b[0;34m.\u001b[0m\u001b[0mfit\u001b[0m\u001b[0;34m(\u001b[0m\u001b[0mtrain_ds\u001b[0m\u001b[0;34m,\u001b[0m \u001b[0mepochs\u001b[0m\u001b[0;34m=\u001b[0m\u001b[0;36m10\u001b[0m\u001b[0;34m,\u001b[0m \u001b[0mvalidation_data\u001b[0m\u001b[0;34m=\u001b[0m\u001b[0mval_ds\u001b[0m\u001b[0;34m)\u001b[0m\u001b[0;34m\u001b[0m\u001b[0;34m\u001b[0m\u001b[0m\n\u001b[0m",
            "\u001b[0;32m/usr/local/lib/python3.11/dist-packages/keras/src/utils/traceback_utils.py\u001b[0m in \u001b[0;36merror_handler\u001b[0;34m(*args, **kwargs)\u001b[0m\n\u001b[1;32m    115\u001b[0m         \u001b[0mfiltered_tb\u001b[0m \u001b[0;34m=\u001b[0m \u001b[0;32mNone\u001b[0m\u001b[0;34m\u001b[0m\u001b[0;34m\u001b[0m\u001b[0m\n\u001b[1;32m    116\u001b[0m         \u001b[0;32mtry\u001b[0m\u001b[0;34m:\u001b[0m\u001b[0;34m\u001b[0m\u001b[0;34m\u001b[0m\u001b[0m\n\u001b[0;32m--> 117\u001b[0;31m             \u001b[0;32mreturn\u001b[0m \u001b[0mfn\u001b[0m\u001b[0;34m(\u001b[0m\u001b[0;34m*\u001b[0m\u001b[0margs\u001b[0m\u001b[0;34m,\u001b[0m \u001b[0;34m**\u001b[0m\u001b[0mkwargs\u001b[0m\u001b[0;34m)\u001b[0m\u001b[0;34m\u001b[0m\u001b[0;34m\u001b[0m\u001b[0m\n\u001b[0m\u001b[1;32m    118\u001b[0m         \u001b[0;32mexcept\u001b[0m \u001b[0mException\u001b[0m \u001b[0;32mas\u001b[0m \u001b[0me\u001b[0m\u001b[0;34m:\u001b[0m\u001b[0;34m\u001b[0m\u001b[0;34m\u001b[0m\u001b[0m\n\u001b[1;32m    119\u001b[0m             \u001b[0mfiltered_tb\u001b[0m \u001b[0;34m=\u001b[0m \u001b[0m_process_traceback_frames\u001b[0m\u001b[0;34m(\u001b[0m\u001b[0me\u001b[0m\u001b[0;34m.\u001b[0m\u001b[0m__traceback__\u001b[0m\u001b[0;34m)\u001b[0m\u001b[0;34m\u001b[0m\u001b[0;34m\u001b[0m\u001b[0m\n",
            "\u001b[0;32m/usr/local/lib/python3.11/dist-packages/keras/src/backend/tensorflow/trainer.py\u001b[0m in \u001b[0;36mfit\u001b[0;34m(self, x, y, batch_size, epochs, verbose, callbacks, validation_split, validation_data, shuffle, class_weight, sample_weight, initial_epoch, steps_per_epoch, validation_steps, validation_batch_size, validation_freq)\u001b[0m\n\u001b[1;32m    369\u001b[0m                 \u001b[0;32mfor\u001b[0m \u001b[0mstep\u001b[0m\u001b[0;34m,\u001b[0m \u001b[0miterator\u001b[0m \u001b[0;32min\u001b[0m \u001b[0mepoch_iterator\u001b[0m\u001b[0;34m:\u001b[0m\u001b[0;34m\u001b[0m\u001b[0;34m\u001b[0m\u001b[0m\n\u001b[1;32m    370\u001b[0m                     \u001b[0mcallbacks\u001b[0m\u001b[0;34m.\u001b[0m\u001b[0mon_train_batch_begin\u001b[0m\u001b[0;34m(\u001b[0m\u001b[0mstep\u001b[0m\u001b[0;34m)\u001b[0m\u001b[0;34m\u001b[0m\u001b[0;34m\u001b[0m\u001b[0m\n\u001b[0;32m--> 371\u001b[0;31m                     \u001b[0mlogs\u001b[0m \u001b[0;34m=\u001b[0m \u001b[0mself\u001b[0m\u001b[0;34m.\u001b[0m\u001b[0mtrain_function\u001b[0m\u001b[0;34m(\u001b[0m\u001b[0miterator\u001b[0m\u001b[0;34m)\u001b[0m\u001b[0;34m\u001b[0m\u001b[0;34m\u001b[0m\u001b[0m\n\u001b[0m\u001b[1;32m    372\u001b[0m                     \u001b[0mcallbacks\u001b[0m\u001b[0;34m.\u001b[0m\u001b[0mon_train_batch_end\u001b[0m\u001b[0;34m(\u001b[0m\u001b[0mstep\u001b[0m\u001b[0;34m,\u001b[0m \u001b[0mlogs\u001b[0m\u001b[0;34m)\u001b[0m\u001b[0;34m\u001b[0m\u001b[0;34m\u001b[0m\u001b[0m\n\u001b[1;32m    373\u001b[0m                     \u001b[0;32mif\u001b[0m \u001b[0mself\u001b[0m\u001b[0;34m.\u001b[0m\u001b[0mstop_training\u001b[0m\u001b[0;34m:\u001b[0m\u001b[0;34m\u001b[0m\u001b[0;34m\u001b[0m\u001b[0m\n",
            "\u001b[0;32m/usr/local/lib/python3.11/dist-packages/keras/src/backend/tensorflow/trainer.py\u001b[0m in \u001b[0;36mfunction\u001b[0;34m(iterator)\u001b[0m\n\u001b[1;32m    217\u001b[0m                 \u001b[0miterator\u001b[0m\u001b[0;34m,\u001b[0m \u001b[0;34m(\u001b[0m\u001b[0mtf\u001b[0m\u001b[0;34m.\u001b[0m\u001b[0mdata\u001b[0m\u001b[0;34m.\u001b[0m\u001b[0mIterator\u001b[0m\u001b[0;34m,\u001b[0m \u001b[0mtf\u001b[0m\u001b[0;34m.\u001b[0m\u001b[0mdistribute\u001b[0m\u001b[0;34m.\u001b[0m\u001b[0mDistributedIterator\u001b[0m\u001b[0;34m)\u001b[0m\u001b[0;34m\u001b[0m\u001b[0;34m\u001b[0m\u001b[0m\n\u001b[1;32m    218\u001b[0m             ):\n\u001b[0;32m--> 219\u001b[0;31m                 \u001b[0mopt_outputs\u001b[0m \u001b[0;34m=\u001b[0m \u001b[0mmulti_step_on_iterator\u001b[0m\u001b[0;34m(\u001b[0m\u001b[0miterator\u001b[0m\u001b[0;34m)\u001b[0m\u001b[0;34m\u001b[0m\u001b[0;34m\u001b[0m\u001b[0m\n\u001b[0m\u001b[1;32m    220\u001b[0m                 \u001b[0;32mif\u001b[0m \u001b[0;32mnot\u001b[0m \u001b[0mopt_outputs\u001b[0m\u001b[0;34m.\u001b[0m\u001b[0mhas_value\u001b[0m\u001b[0;34m(\u001b[0m\u001b[0;34m)\u001b[0m\u001b[0;34m:\u001b[0m\u001b[0;34m\u001b[0m\u001b[0;34m\u001b[0m\u001b[0m\n\u001b[1;32m    221\u001b[0m                     \u001b[0;32mraise\u001b[0m \u001b[0mStopIteration\u001b[0m\u001b[0;34m\u001b[0m\u001b[0;34m\u001b[0m\u001b[0m\n",
            "\u001b[0;32m/usr/local/lib/python3.11/dist-packages/tensorflow/python/util/traceback_utils.py\u001b[0m in \u001b[0;36merror_handler\u001b[0;34m(*args, **kwargs)\u001b[0m\n\u001b[1;32m    148\u001b[0m     \u001b[0mfiltered_tb\u001b[0m \u001b[0;34m=\u001b[0m \u001b[0;32mNone\u001b[0m\u001b[0;34m\u001b[0m\u001b[0;34m\u001b[0m\u001b[0m\n\u001b[1;32m    149\u001b[0m     \u001b[0;32mtry\u001b[0m\u001b[0;34m:\u001b[0m\u001b[0;34m\u001b[0m\u001b[0;34m\u001b[0m\u001b[0m\n\u001b[0;32m--> 150\u001b[0;31m       \u001b[0;32mreturn\u001b[0m \u001b[0mfn\u001b[0m\u001b[0;34m(\u001b[0m\u001b[0;34m*\u001b[0m\u001b[0margs\u001b[0m\u001b[0;34m,\u001b[0m \u001b[0;34m**\u001b[0m\u001b[0mkwargs\u001b[0m\u001b[0;34m)\u001b[0m\u001b[0;34m\u001b[0m\u001b[0;34m\u001b[0m\u001b[0m\n\u001b[0m\u001b[1;32m    151\u001b[0m     \u001b[0;32mexcept\u001b[0m \u001b[0mException\u001b[0m \u001b[0;32mas\u001b[0m \u001b[0me\u001b[0m\u001b[0;34m:\u001b[0m\u001b[0;34m\u001b[0m\u001b[0;34m\u001b[0m\u001b[0m\n\u001b[1;32m    152\u001b[0m       \u001b[0mfiltered_tb\u001b[0m \u001b[0;34m=\u001b[0m \u001b[0m_process_traceback_frames\u001b[0m\u001b[0;34m(\u001b[0m\u001b[0me\u001b[0m\u001b[0;34m.\u001b[0m\u001b[0m__traceback__\u001b[0m\u001b[0;34m)\u001b[0m\u001b[0;34m\u001b[0m\u001b[0;34m\u001b[0m\u001b[0m\n",
            "\u001b[0;32m/usr/local/lib/python3.11/dist-packages/tensorflow/python/eager/polymorphic_function/polymorphic_function.py\u001b[0m in \u001b[0;36m__call__\u001b[0;34m(self, *args, **kwds)\u001b[0m\n\u001b[1;32m    831\u001b[0m \u001b[0;34m\u001b[0m\u001b[0m\n\u001b[1;32m    832\u001b[0m       \u001b[0;32mwith\u001b[0m \u001b[0mOptionalXlaContext\u001b[0m\u001b[0;34m(\u001b[0m\u001b[0mself\u001b[0m\u001b[0;34m.\u001b[0m\u001b[0m_jit_compile\u001b[0m\u001b[0;34m)\u001b[0m\u001b[0;34m:\u001b[0m\u001b[0;34m\u001b[0m\u001b[0;34m\u001b[0m\u001b[0m\n\u001b[0;32m--> 833\u001b[0;31m         \u001b[0mresult\u001b[0m \u001b[0;34m=\u001b[0m \u001b[0mself\u001b[0m\u001b[0;34m.\u001b[0m\u001b[0m_call\u001b[0m\u001b[0;34m(\u001b[0m\u001b[0;34m*\u001b[0m\u001b[0margs\u001b[0m\u001b[0;34m,\u001b[0m \u001b[0;34m**\u001b[0m\u001b[0mkwds\u001b[0m\u001b[0;34m)\u001b[0m\u001b[0;34m\u001b[0m\u001b[0;34m\u001b[0m\u001b[0m\n\u001b[0m\u001b[1;32m    834\u001b[0m \u001b[0;34m\u001b[0m\u001b[0m\n\u001b[1;32m    835\u001b[0m       \u001b[0mnew_tracing_count\u001b[0m \u001b[0;34m=\u001b[0m \u001b[0mself\u001b[0m\u001b[0;34m.\u001b[0m\u001b[0mexperimental_get_tracing_count\u001b[0m\u001b[0;34m(\u001b[0m\u001b[0;34m)\u001b[0m\u001b[0;34m\u001b[0m\u001b[0;34m\u001b[0m\u001b[0m\n",
            "\u001b[0;32m/usr/local/lib/python3.11/dist-packages/tensorflow/python/eager/polymorphic_function/polymorphic_function.py\u001b[0m in \u001b[0;36m_call\u001b[0;34m(self, *args, **kwds)\u001b[0m\n\u001b[1;32m    876\u001b[0m       \u001b[0;31m# In this case we have not created variables on the first call. So we can\u001b[0m\u001b[0;34m\u001b[0m\u001b[0;34m\u001b[0m\u001b[0m\n\u001b[1;32m    877\u001b[0m       \u001b[0;31m# run the first trace but we should fail if variables are created.\u001b[0m\u001b[0;34m\u001b[0m\u001b[0;34m\u001b[0m\u001b[0m\n\u001b[0;32m--> 878\u001b[0;31m       results = tracing_compilation.call_function(\n\u001b[0m\u001b[1;32m    879\u001b[0m           \u001b[0margs\u001b[0m\u001b[0;34m,\u001b[0m \u001b[0mkwds\u001b[0m\u001b[0;34m,\u001b[0m \u001b[0mself\u001b[0m\u001b[0;34m.\u001b[0m\u001b[0m_variable_creation_config\u001b[0m\u001b[0;34m\u001b[0m\u001b[0;34m\u001b[0m\u001b[0m\n\u001b[1;32m    880\u001b[0m       )\n",
            "\u001b[0;32m/usr/local/lib/python3.11/dist-packages/tensorflow/python/eager/polymorphic_function/tracing_compilation.py\u001b[0m in \u001b[0;36mcall_function\u001b[0;34m(args, kwargs, tracing_options)\u001b[0m\n\u001b[1;32m    137\u001b[0m   \u001b[0mbound_args\u001b[0m \u001b[0;34m=\u001b[0m \u001b[0mfunction\u001b[0m\u001b[0;34m.\u001b[0m\u001b[0mfunction_type\u001b[0m\u001b[0;34m.\u001b[0m\u001b[0mbind\u001b[0m\u001b[0;34m(\u001b[0m\u001b[0;34m*\u001b[0m\u001b[0margs\u001b[0m\u001b[0;34m,\u001b[0m \u001b[0;34m**\u001b[0m\u001b[0mkwargs\u001b[0m\u001b[0;34m)\u001b[0m\u001b[0;34m\u001b[0m\u001b[0;34m\u001b[0m\u001b[0m\n\u001b[1;32m    138\u001b[0m   \u001b[0mflat_inputs\u001b[0m \u001b[0;34m=\u001b[0m \u001b[0mfunction\u001b[0m\u001b[0;34m.\u001b[0m\u001b[0mfunction_type\u001b[0m\u001b[0;34m.\u001b[0m\u001b[0munpack_inputs\u001b[0m\u001b[0;34m(\u001b[0m\u001b[0mbound_args\u001b[0m\u001b[0;34m)\u001b[0m\u001b[0;34m\u001b[0m\u001b[0;34m\u001b[0m\u001b[0m\n\u001b[0;32m--> 139\u001b[0;31m   return function._call_flat(  # pylint: disable=protected-access\n\u001b[0m\u001b[1;32m    140\u001b[0m       \u001b[0mflat_inputs\u001b[0m\u001b[0;34m,\u001b[0m \u001b[0mcaptured_inputs\u001b[0m\u001b[0;34m=\u001b[0m\u001b[0mfunction\u001b[0m\u001b[0;34m.\u001b[0m\u001b[0mcaptured_inputs\u001b[0m\u001b[0;34m\u001b[0m\u001b[0;34m\u001b[0m\u001b[0m\n\u001b[1;32m    141\u001b[0m   )\n",
            "\u001b[0;32m/usr/local/lib/python3.11/dist-packages/tensorflow/python/eager/polymorphic_function/concrete_function.py\u001b[0m in \u001b[0;36m_call_flat\u001b[0;34m(self, tensor_inputs, captured_inputs)\u001b[0m\n\u001b[1;32m   1320\u001b[0m         and executing_eagerly):\n\u001b[1;32m   1321\u001b[0m       \u001b[0;31m# No tape is watching; skip to running the function.\u001b[0m\u001b[0;34m\u001b[0m\u001b[0;34m\u001b[0m\u001b[0m\n\u001b[0;32m-> 1322\u001b[0;31m       \u001b[0;32mreturn\u001b[0m \u001b[0mself\u001b[0m\u001b[0;34m.\u001b[0m\u001b[0m_inference_function\u001b[0m\u001b[0;34m.\u001b[0m\u001b[0mcall_preflattened\u001b[0m\u001b[0;34m(\u001b[0m\u001b[0margs\u001b[0m\u001b[0;34m)\u001b[0m\u001b[0;34m\u001b[0m\u001b[0;34m\u001b[0m\u001b[0m\n\u001b[0m\u001b[1;32m   1323\u001b[0m     forward_backward = self._select_forward_and_backward_functions(\n\u001b[1;32m   1324\u001b[0m         \u001b[0margs\u001b[0m\u001b[0;34m,\u001b[0m\u001b[0;34m\u001b[0m\u001b[0;34m\u001b[0m\u001b[0m\n",
            "\u001b[0;32m/usr/local/lib/python3.11/dist-packages/tensorflow/python/eager/polymorphic_function/atomic_function.py\u001b[0m in \u001b[0;36mcall_preflattened\u001b[0;34m(self, args)\u001b[0m\n\u001b[1;32m    214\u001b[0m   \u001b[0;32mdef\u001b[0m \u001b[0mcall_preflattened\u001b[0m\u001b[0;34m(\u001b[0m\u001b[0mself\u001b[0m\u001b[0;34m,\u001b[0m \u001b[0margs\u001b[0m\u001b[0;34m:\u001b[0m \u001b[0mSequence\u001b[0m\u001b[0;34m[\u001b[0m\u001b[0mcore\u001b[0m\u001b[0;34m.\u001b[0m\u001b[0mTensor\u001b[0m\u001b[0;34m]\u001b[0m\u001b[0;34m)\u001b[0m \u001b[0;34m->\u001b[0m \u001b[0mAny\u001b[0m\u001b[0;34m:\u001b[0m\u001b[0;34m\u001b[0m\u001b[0;34m\u001b[0m\u001b[0m\n\u001b[1;32m    215\u001b[0m     \u001b[0;34m\"\"\"Calls with flattened tensor inputs and returns the structured output.\"\"\"\u001b[0m\u001b[0;34m\u001b[0m\u001b[0;34m\u001b[0m\u001b[0m\n\u001b[0;32m--> 216\u001b[0;31m     \u001b[0mflat_outputs\u001b[0m \u001b[0;34m=\u001b[0m \u001b[0mself\u001b[0m\u001b[0;34m.\u001b[0m\u001b[0mcall_flat\u001b[0m\u001b[0;34m(\u001b[0m\u001b[0;34m*\u001b[0m\u001b[0margs\u001b[0m\u001b[0;34m)\u001b[0m\u001b[0;34m\u001b[0m\u001b[0;34m\u001b[0m\u001b[0m\n\u001b[0m\u001b[1;32m    217\u001b[0m     \u001b[0;32mreturn\u001b[0m \u001b[0mself\u001b[0m\u001b[0;34m.\u001b[0m\u001b[0mfunction_type\u001b[0m\u001b[0;34m.\u001b[0m\u001b[0mpack_output\u001b[0m\u001b[0;34m(\u001b[0m\u001b[0mflat_outputs\u001b[0m\u001b[0;34m)\u001b[0m\u001b[0;34m\u001b[0m\u001b[0;34m\u001b[0m\u001b[0m\n\u001b[1;32m    218\u001b[0m \u001b[0;34m\u001b[0m\u001b[0m\n",
            "\u001b[0;32m/usr/local/lib/python3.11/dist-packages/tensorflow/python/eager/polymorphic_function/atomic_function.py\u001b[0m in \u001b[0;36mcall_flat\u001b[0;34m(self, *args)\u001b[0m\n\u001b[1;32m    249\u001b[0m         \u001b[0;32mwith\u001b[0m \u001b[0mrecord\u001b[0m\u001b[0;34m.\u001b[0m\u001b[0mstop_recording\u001b[0m\u001b[0;34m(\u001b[0m\u001b[0;34m)\u001b[0m\u001b[0;34m:\u001b[0m\u001b[0;34m\u001b[0m\u001b[0;34m\u001b[0m\u001b[0m\n\u001b[1;32m    250\u001b[0m           \u001b[0;32mif\u001b[0m \u001b[0mself\u001b[0m\u001b[0;34m.\u001b[0m\u001b[0m_bound_context\u001b[0m\u001b[0;34m.\u001b[0m\u001b[0mexecuting_eagerly\u001b[0m\u001b[0;34m(\u001b[0m\u001b[0;34m)\u001b[0m\u001b[0;34m:\u001b[0m\u001b[0;34m\u001b[0m\u001b[0;34m\u001b[0m\u001b[0m\n\u001b[0;32m--> 251\u001b[0;31m             outputs = self._bound_context.call_function(\n\u001b[0m\u001b[1;32m    252\u001b[0m                 \u001b[0mself\u001b[0m\u001b[0;34m.\u001b[0m\u001b[0mname\u001b[0m\u001b[0;34m,\u001b[0m\u001b[0;34m\u001b[0m\u001b[0;34m\u001b[0m\u001b[0m\n\u001b[1;32m    253\u001b[0m                 \u001b[0mlist\u001b[0m\u001b[0;34m(\u001b[0m\u001b[0margs\u001b[0m\u001b[0;34m)\u001b[0m\u001b[0;34m,\u001b[0m\u001b[0;34m\u001b[0m\u001b[0;34m\u001b[0m\u001b[0m\n",
            "\u001b[0;32m/usr/local/lib/python3.11/dist-packages/tensorflow/python/eager/context.py\u001b[0m in \u001b[0;36mcall_function\u001b[0;34m(self, name, tensor_inputs, num_outputs)\u001b[0m\n\u001b[1;32m   1681\u001b[0m     \u001b[0mcancellation_context\u001b[0m \u001b[0;34m=\u001b[0m \u001b[0mcancellation\u001b[0m\u001b[0;34m.\u001b[0m\u001b[0mcontext\u001b[0m\u001b[0;34m(\u001b[0m\u001b[0;34m)\u001b[0m\u001b[0;34m\u001b[0m\u001b[0;34m\u001b[0m\u001b[0m\n\u001b[1;32m   1682\u001b[0m     \u001b[0;32mif\u001b[0m \u001b[0mcancellation_context\u001b[0m \u001b[0;32mis\u001b[0m \u001b[0;32mNone\u001b[0m\u001b[0;34m:\u001b[0m\u001b[0;34m\u001b[0m\u001b[0;34m\u001b[0m\u001b[0m\n\u001b[0;32m-> 1683\u001b[0;31m       outputs = execute.execute(\n\u001b[0m\u001b[1;32m   1684\u001b[0m           \u001b[0mname\u001b[0m\u001b[0;34m.\u001b[0m\u001b[0mdecode\u001b[0m\u001b[0;34m(\u001b[0m\u001b[0;34m\"utf-8\"\u001b[0m\u001b[0;34m)\u001b[0m\u001b[0;34m,\u001b[0m\u001b[0;34m\u001b[0m\u001b[0;34m\u001b[0m\u001b[0m\n\u001b[1;32m   1685\u001b[0m           \u001b[0mnum_outputs\u001b[0m\u001b[0;34m=\u001b[0m\u001b[0mnum_outputs\u001b[0m\u001b[0;34m,\u001b[0m\u001b[0;34m\u001b[0m\u001b[0;34m\u001b[0m\u001b[0m\n",
            "\u001b[0;32m/usr/local/lib/python3.11/dist-packages/tensorflow/python/eager/execute.py\u001b[0m in \u001b[0;36mquick_execute\u001b[0;34m(op_name, num_outputs, inputs, attrs, ctx, name)\u001b[0m\n\u001b[1;32m     51\u001b[0m   \u001b[0;32mtry\u001b[0m\u001b[0;34m:\u001b[0m\u001b[0;34m\u001b[0m\u001b[0;34m\u001b[0m\u001b[0m\n\u001b[1;32m     52\u001b[0m     \u001b[0mctx\u001b[0m\u001b[0;34m.\u001b[0m\u001b[0mensure_initialized\u001b[0m\u001b[0;34m(\u001b[0m\u001b[0;34m)\u001b[0m\u001b[0;34m\u001b[0m\u001b[0;34m\u001b[0m\u001b[0m\n\u001b[0;32m---> 53\u001b[0;31m     tensors = pywrap_tfe.TFE_Py_Execute(ctx._handle, device_name, op_name,\n\u001b[0m\u001b[1;32m     54\u001b[0m                                         inputs, attrs, num_outputs)\n\u001b[1;32m     55\u001b[0m   \u001b[0;32mexcept\u001b[0m \u001b[0mcore\u001b[0m\u001b[0;34m.\u001b[0m\u001b[0m_NotOkStatusException\u001b[0m \u001b[0;32mas\u001b[0m \u001b[0me\u001b[0m\u001b[0;34m:\u001b[0m\u001b[0;34m\u001b[0m\u001b[0;34m\u001b[0m\u001b[0m\n",
            "\u001b[0;31mKeyboardInterrupt\u001b[0m: "
          ]
        }
      ],
      "source": [
        "model.fit(train_ds, epochs=10, validation_data=val_ds)\n"
      ]
    },
    {
      "cell_type": "code",
      "execution_count": null,
      "metadata": {
        "id": "U93Y_da3ZMcN"
      },
      "outputs": [],
      "source": [
        "history = model.fit(train_ds, epochs=10, validation_data=val_ds)\n"
      ]
    },
    {
      "cell_type": "code",
      "execution_count": null,
      "metadata": {
        "id": "K5MEVoHLZXcN"
      },
      "outputs": [],
      "source": [
        "history.history['accuracy']\n",
        "#history.history['val_accuracy']"
      ]
    },
    {
      "cell_type": "code",
      "execution_count": null,
      "metadata": {
        "id": "5L09697Uajj2"
      },
      "outputs": [],
      "source": [
        "#plt.plot(history.history['accuracy'], label='train')\n",
        "plt.plot(history.history['val_accuracy'], label='val')\n",
        "plt.xticks(np.arange(10))\n",
        "plt.legend()"
      ]
    },
    {
      "cell_type": "markdown",
      "metadata": {
        "id": "DaLZkdSmaiu_"
      },
      "source": [
        "learning rate"
      ]
    },
    {
      "cell_type": "code",
      "execution_count": null,
      "metadata": {
        "id": "fAgOSLxabQL1"
      },
      "outputs": [],
      "source": [
        "def make_model(learning_rate=0.01):\n",
        "    base_model = Xception(\n",
        "        weights='imagenet',\n",
        "        include_top=False,\n",
        "        input_shape=(150, 150, 3)\n",
        "    )\n",
        "\n",
        "    base_model.trainable = False\n",
        "\n",
        "    #########################################\n",
        "\n",
        "    inputs = keras.Input(shape=(150, 150, 3))\n",
        "    base = base_model(inputs, training=False)\n",
        "    vectors = keras.layers.GlobalAveragePooling2D()(base)\n",
        "    outputs = keras.layers.Dense(10)(vectors)\n",
        "    model = keras.Model(inputs, outputs)\n",
        "\n",
        "    #########################################\n",
        "\n",
        "    optimizer = keras.optimizers.Adam(learning_rate=learning_rate)\n",
        "    loss = keras.losses.CategoricalCrossentropy(from_logits=True)\n",
        "\n",
        "    model.compile(\n",
        "        optimizer=optimizer,\n",
        "        loss=loss,\n",
        "        metrics=['accuracy']\n",
        "    )\n",
        "\n",
        "    return model"
      ]
    },
    {
      "cell_type": "code",
      "source": [
        "scores = {}\n",
        "\n",
        "for lr in [0.0001, 0.001, 0.01, 0.1]:\n",
        "    print(lr)\n",
        "\n",
        "    model = make_model(learning_rate=lr)\n",
        "    history = model.fit(train_ds, epochs=10, validation_data=val_ds)\n",
        "    scores[lr] = history.history\n",
        "\n",
        "    print()\n",
        "    print()"
      ],
      "metadata": {
        "id": "Uv7w39lPym6L"
      },
      "execution_count": null,
      "outputs": []
    },
    {
      "cell_type": "code",
      "source": [
        "for lr, hist in scores.items():\n",
        "    plt.plot(hist['accuracy'], label=('train=%s' % lr))\n",
        "    plt.plot(hist['val_accuracy'], label=('val=%s' % lr))\n",
        "\n",
        "plt.xticks(np.arange(10))\n",
        "plt.legend()"
      ],
      "metadata": {
        "id": "ZXGJ3dKPynMg"
      },
      "execution_count": null,
      "outputs": []
    },
    {
      "cell_type": "code",
      "source": [
        "learning_rate = 0.001"
      ],
      "metadata": {
        "id": "YqRJBUNCynSo"
      },
      "execution_count": null,
      "outputs": []
    },
    {
      "cell_type": "markdown",
      "source": [
        "checkpointing"
      ],
      "metadata": {
        "id": "5M-0L02A2g-D"
      }
    },
    {
      "cell_type": "code",
      "source": [
        "model.save_weights('model_v1.h5', save_format='h5')\n"
      ],
      "metadata": {
        "id": "aPHjQaAS2izJ"
      },
      "execution_count": null,
      "outputs": []
    },
    {
      "cell_type": "code",
      "source": [
        "'xception_v1_{epoch:02d}_{val_accuracy:.3f}.h5'.format(epoch=3, val_accuracy=0.84)\n"
      ],
      "metadata": {
        "id": "Re092IYN2m09"
      },
      "execution_count": null,
      "outputs": []
    },
    {
      "cell_type": "code",
      "source": [
        "checkpoint = keras.callbacks.ModelCheckpoint(\n",
        "    'xception_v1_{epoch:02d}_{val_accuracy:.3f}.h5',\n",
        "    save_best_only=True,\n",
        "    monitor='val_accuracy',\n",
        "    mode='max'\n",
        ")"
      ],
      "metadata": {
        "id": "5wCNkQDr3a5z"
      },
      "execution_count": null,
      "outputs": []
    },
    {
      "cell_type": "code",
      "source": [
        "learning_rate = 0.001\n",
        "\n",
        "model = make_model(learning_rate=learning_rate)\n",
        "\n",
        "history = model.fit(\n",
        "    train_ds,\n",
        "    epochs=10,\n",
        "    validation_data=val_ds,\n",
        "    callbacks=[checkpoint]\n",
        ")"
      ],
      "metadata": {
        "id": "LSZ35cfU3bDn"
      },
      "execution_count": null,
      "outputs": []
    },
    {
      "cell_type": "markdown",
      "source": [
        "Different Dense Layer Sizes to Improve Model Accuracy"
      ],
      "metadata": {
        "id": "aajhp1AsWS6p"
      }
    },
    {
      "cell_type": "code",
      "source": [
        "def make_model(learning_rate=0.01, size_inner=100):\n",
        "    base_model = Xception(\n",
        "        weights='imagenet',\n",
        "        include_top=False,\n",
        "        input_shape=(150, 150, 3)\n",
        "    )\n",
        "\n",
        "    base_model.trainable = False\n",
        "\n",
        "    #########################################\n",
        "\n",
        "    inputs = keras.Input(shape=(150, 150, 3))\n",
        "    base = base_model(inputs, training=False)\n",
        "    vectors = keras.layers.GlobalAveragePooling2D()(base)\n",
        "\n",
        "    inner = keras.layers.Dense(size_inner, activation='relu')(vectors)\n",
        "\n",
        "    outputs = keras.layers.Dense(10)(inner)\n",
        "\n",
        "    model = keras.Model(inputs, outputs)\n",
        "\n",
        "    #########################################\n",
        "\n",
        "    optimizer = keras.optimizers.Adam(learning_rate=learning_rate)\n",
        "    loss = keras.losses.CategoricalCrossentropy(from_logits=True)\n",
        "\n",
        "    model.compile(\n",
        "        optimizer=optimizer,\n",
        "        loss=loss,\n",
        "        metrics=['accuracy']\n",
        "    )\n",
        "\n",
        "    return model\n"
      ],
      "metadata": {
        "id": "Vu2DXX5xWW1c"
      },
      "execution_count": null,
      "outputs": []
    },
    {
      "cell_type": "code",
      "source": [
        "learning_rate = 0.001\n",
        "\n",
        "scores = {}\n",
        "\n",
        "for size in [10, 100, 1000]:\n",
        "    print(size)\n",
        "\n",
        "    model = make_model(learning_rate=learning_rate, size_inner=size)\n",
        "    history = model.fit(train_ds, epochs=10, validation_data=val_ds)\n",
        "    scores[size] = history.history\n",
        "\n",
        "    print()\n",
        "    print()\n"
      ],
      "metadata": {
        "id": "Tzull7beYJlE"
      },
      "execution_count": null,
      "outputs": []
    },
    {
      "cell_type": "code",
      "source": [
        "for size, hist in scores.items():\n",
        "    plt.plot(hist['val_accuracy'], label=('val=%s' % size))\n",
        "\n",
        "plt.xticks(np.arange(10))\n",
        "plt.yticks(np.arange(0.64, 0.87, 0.02))\n",
        "plt.legend()"
      ],
      "metadata": {
        "id": "yi4kzWr1YJvE"
      },
      "execution_count": null,
      "outputs": []
    },
    {
      "cell_type": "markdown",
      "source": [
        "dropout"
      ],
      "metadata": {
        "id": "MBMOpZItc3aG"
      }
    },
    {
      "cell_type": "code",
      "source": [
        "def make_model(learning_rate=0.01, size_inner=100, droprate=0.5):\n",
        "    base_model = Xception(\n",
        "        weights='imagenet',\n",
        "        include_top=False,\n",
        "        input_shape=(150, 150, 3)\n",
        "    )\n",
        "\n",
        "    base_model.trainable = False\n",
        "\n",
        "    #########################################\n",
        "\n",
        "    inputs = keras.Input(shape=(150, 150, 3))\n",
        "    base = base_model(inputs, training=False)\n",
        "    vectors = keras.layers.GlobalAveragePooling2D()(base)\n",
        "\n",
        "    inner = keras.layers.Dense(size_inner, activation='relu')(vectors)\n",
        "    drop = keras.layers.Dropout(droprate)(inner)\n",
        "\n",
        "    outputs = keras.layers.Dense(10)(drop)\n",
        "\n",
        "    model = keras.Model(inputs, outputs)\n",
        "\n",
        "    #########################################\n",
        "\n",
        "    optimizer = keras.optimizers.Adam(learning_rate=learning_rate)\n",
        "    loss = keras.losses.CategoricalCrossentropy(from_logits=True)\n",
        "\n",
        "    model.compile(\n",
        "        optimizer=optimizer,\n",
        "        loss=loss,\n",
        "        metrics=['accuracy']\n",
        "    )\n",
        "\n",
        "    return model"
      ],
      "metadata": {
        "id": "_ShDjhSyc6MW"
      },
      "execution_count": null,
      "outputs": []
    },
    {
      "cell_type": "code",
      "source": [
        "learning_rate = 0.001\n",
        "size = 100\n",
        "\n",
        "scores = {}\n",
        "\n",
        "for droprate in [0.0, 0.2, 0.5, 0.8]:\n",
        "    print(droprate)\n",
        "\n",
        "    model = make_model(\n",
        "        learning_rate=learning_rate,\n",
        "        size_inner=size,\n",
        "        droprate=droprate\n",
        "    )\n",
        "\n",
        "    history = model.fit(train_ds, epochs=30, validation_data=val_ds)\n",
        "    scores[droprate] = history.history\n",
        "\n",
        "    print()\n",
        "    print()\n"
      ],
      "metadata": {
        "id": "2_62Y-s3dCDg"
      },
      "execution_count": null,
      "outputs": []
    },
    {
      "cell_type": "code",
      "source": [
        "for droprate, hist in scores.items():\n",
        "    plt.plot(hist['val_accuracy'], label=('val=%s' % droprate))\n",
        "\n",
        "plt.ylim(0.78, 0.86)\n",
        "plt.legend()"
      ],
      "metadata": {
        "id": "rnXHC3tBdGTz"
      },
      "execution_count": null,
      "outputs": []
    },
    {
      "cell_type": "code",
      "source": [
        "hist = scores[0.0]\n",
        "plt.plot(hist['val_accuracy'], label=0.0)\n",
        "\n",
        "hist = scores[0.2]\n",
        "plt.plot(hist['val_accuracy'], label=0.2)\n",
        "\n",
        "plt.legend()"
      ],
      "metadata": {
        "id": "tSuJTJxIdJ-P"
      },
      "execution_count": null,
      "outputs": []
    },
    {
      "cell_type": "markdown",
      "source": [
        "data augmentation"
      ],
      "metadata": {
        "id": "RU7kTbNwd2KA"
      }
    },
    {
      "cell_type": "code",
      "source": [
        "train_gen = ImageDataGenerator(\n",
        "    preprocessing_function=preprocess_input,\n",
        "    shear_range=10,\n",
        "    zoom_range=0.1,\n",
        "    vertical_flip=True,\n",
        ")\n",
        "\n",
        "train_ds = train_gen.flow_from_directory(\n",
        "    './clothing-dataset-small/train',\n",
        "    target_size=(150, 150),\n",
        "    batch_size=32\n",
        ")\n",
        "\n",
        "val_gen = ImageDataGenerator(preprocessing_function=preprocess_input)\n",
        "\n",
        "val_ds = val_gen.flow_from_directory(\n",
        "    './clothing-dataset-small/validation',\n",
        "    target_size=(150, 150),\n",
        "    batch_size=32,\n",
        "    shuffle=False\n",
        ")"
      ],
      "metadata": {
        "id": "DfbqJCafdxRF"
      },
      "execution_count": null,
      "outputs": []
    },
    {
      "cell_type": "code",
      "source": [
        "learning_rate = 0.001\n",
        "size = 100\n",
        "droprate = 0.2\n",
        "\n",
        "model = make_model(\n",
        "    learning_rate=learning_rate,\n",
        "    size_inner=size,\n",
        "    droprate=droprate\n",
        ")\n",
        "\n",
        "history = model.fit(train_ds, epochs=50, validation_data=val_ds)\n"
      ],
      "metadata": {
        "id": "TahTZufefjx8"
      },
      "execution_count": null,
      "outputs": []
    },
    {
      "cell_type": "code",
      "source": [
        "hist = history.history\n",
        "plt.plot(hist['val_accuracy'], label='val')\n",
        "plt.plot(hist['accuracy'], label='train')\n",
        "\n",
        "plt.legend()"
      ],
      "metadata": {
        "id": "gisg9NJjfkCL"
      },
      "execution_count": null,
      "outputs": []
    },
    {
      "cell_type": "markdown",
      "source": [
        "Train a 299×299 model"
      ],
      "metadata": {
        "id": "psJzyJIDgsQd"
      }
    },
    {
      "cell_type": "markdown",
      "source": [
        "Model Architecture"
      ],
      "metadata": {
        "id": "H0PezP2lhj3I"
      }
    },
    {
      "cell_type": "code",
      "source": [
        "def make_model(input_size=150, learning_rate=0.01, size_inner=100,\n",
        "               droprate=0.5):\n",
        "\n",
        "    base_model = Xception(\n",
        "        weights='imagenet',\n",
        "        include_top=False,\n",
        "        input_shape=(input_size, input_size, 3)\n",
        "    )\n",
        "\n",
        "    base_model.trainable = False\n",
        "\n",
        "    #########################################\n",
        "\n",
        "    inputs = keras.Input(shape=(input_size, input_size, 3))\n",
        "    base = base_model(inputs, training=False)\n",
        "    vectors = keras.layers.GlobalAveragePooling2D()(base)\n",
        "\n",
        "    inner = keras.layers.Dense(size_inner, activation='relu')(vectors)\n",
        "    drop = keras.layers.Dropout(droprate)(inner)\n",
        "\n",
        "    outputs = keras.layers.Dense(10)(drop)\n",
        "\n",
        "    model = keras.Model(inputs, outputs)\n",
        "\n",
        "    #########################################\n",
        "\n",
        "    optimizer = keras.optimizers.Adam(learning_rate=learning_rate)\n",
        "    loss = keras.losses.CategoricalCrossentropy(from_logits=True)\n",
        "\n",
        "    model.compile(\n",
        "        optimizer=optimizer,\n",
        "        loss=loss,\n",
        "        metrics=['accuracy']\n",
        "    )\n",
        "\n",
        "    return model"
      ],
      "metadata": {
        "id": "Wr3TbRhVgt8v"
      },
      "execution_count": null,
      "outputs": []
    },
    {
      "cell_type": "markdown",
      "source": [
        "Image Input Size"
      ],
      "metadata": {
        "id": "DzXCOxuQhuCS"
      }
    },
    {
      "cell_type": "code",
      "source": [
        "input_size = 299"
      ],
      "metadata": {
        "id": "Je0IgFSahED4"
      },
      "execution_count": null,
      "outputs": []
    },
    {
      "cell_type": "markdown",
      "source": [
        "Data Generators for Training (with Augmentation) and Validation\n",
        "\n"
      ],
      "metadata": {
        "id": "EOxRa8LzhxQ8"
      }
    },
    {
      "cell_type": "code",
      "source": [
        "train_gen = ImageDataGenerator(\n",
        "    preprocessing_function=preprocess_input,\n",
        "    shear_range=10,\n",
        "    zoom_range=0.1,\n",
        "    horizontal_flip=True\n",
        ")\n",
        "\n",
        "train_ds = train_gen.flow_from_directory(\n",
        "    './clothing-dataset-small/train',\n",
        "    target_size=(input_size, input_size),\n",
        "    batch_size=32\n",
        ")\n",
        "\n",
        "\n",
        "val_gen = ImageDataGenerator(preprocessing_function=preprocess_input)\n",
        "\n",
        "val_ds =  val_gen.flow_from_directory(\n",
        "    './clothing-dataset-small/validation',\n",
        "    target_size=(input_size, input_size),\n",
        "    batch_size=32,\n",
        "    shuffle=False\n",
        ")"
      ],
      "metadata": {
        "colab": {
          "base_uri": "https://localhost:8080/"
        },
        "id": "rO1OCg1FhHhg",
        "outputId": "21b0023f-14cb-4ee9-e8e0-be7399a25312"
      },
      "execution_count": null,
      "outputs": [
        {
          "output_type": "stream",
          "name": "stdout",
          "text": [
            "Found 3068 images belonging to 10 classes.\n",
            "Found 341 images belonging to 10 classes.\n"
          ]
        }
      ]
    },
    {
      "cell_type": "markdown",
      "source": [
        "Checkpoint Callback"
      ],
      "metadata": {
        "id": "WWZPR0plh6he"
      }
    },
    {
      "cell_type": "code",
      "source": [
        "checkpoint = keras.callbacks.ModelCheckpoint(\n",
        "    'xception_v4_1_{epoch:02d}_{val_accuracy:.3f}.h5',\n",
        "    save_best_only=True,\n",
        "    monitor='val_accuracy',\n",
        "    mode='max'\n",
        ")"
      ],
      "metadata": {
        "id": "p5Eh70pKhOC-"
      },
      "execution_count": null,
      "outputs": []
    },
    {
      "cell_type": "markdown",
      "source": [
        "Training the Xception Model (299×299)"
      ],
      "metadata": {
        "id": "DgdAI-Fqi_2N"
      }
    },
    {
      "cell_type": "code",
      "source": [
        "learning_rate = 0.0005\n",
        "size = 100\n",
        "droprate = 0.2\n",
        "\n",
        "model = make_model(\n",
        "    input_size=input_size,\n",
        "    learning_rate=learning_rate,\n",
        "    size_inner=size,\n",
        "    droprate=droprate\n",
        ")\n",
        "\n",
        "history = model.fit(train_ds, epochs=50, validation_data=val_ds,\n",
        "                   callbacks=[checkpoint])"
      ],
      "metadata": {
        "colab": {
          "base_uri": "https://localhost:8080/"
        },
        "id": "uZhMdU0YhONi",
        "outputId": "9d36723b-34bb-431a-89c6-f4008de600eb"
      },
      "execution_count": null,
      "outputs": [
        {
          "output_type": "stream",
          "name": "stderr",
          "text": [
            "/usr/local/lib/python3.11/dist-packages/keras/src/trainers/data_adapters/py_dataset_adapter.py:121: UserWarning: Your `PyDataset` class should call `super().__init__(**kwargs)` in its constructor. `**kwargs` can include `workers`, `use_multiprocessing`, `max_queue_size`. Do not pass these arguments to `fit()`, as they will be ignored.\n",
            "  self._warn_if_super_not_called()\n"
          ]
        },
        {
          "output_type": "stream",
          "name": "stdout",
          "text": [
            "Epoch 1/50\n",
            "\u001b[1m96/96\u001b[0m \u001b[32m━━━━━━━━━━━━━━━━━━━━\u001b[0m\u001b[37m\u001b[0m \u001b[1m0s\u001b[0m 782ms/step - accuracy: 0.5658 - loss: 1.3829"
          ]
        },
        {
          "output_type": "stream",
          "name": "stderr",
          "text": [
            "WARNING:absl:You are saving your model as an HDF5 file via `model.save()` or `keras.saving.save_model(model)`. This file format is considered legacy. We recommend using instead the native Keras format, e.g. `model.save('my_model.keras')` or `keras.saving.save_model(model, 'my_model.keras')`. \n"
          ]
        },
        {
          "output_type": "stream",
          "name": "stdout",
          "text": [
            "\b\b\b\b\b\b\b\b\b\b\b\b\b\b\b\b\b\b\b\b\b\b\b\b\b\b\b\b\b\b\b\b\b\b\b\b\b\b\b\b\b\b\b\b\b\b\b\b\b\b\b\b\b\b\b\b\b\b\b\b\b\b\b\b\b\b\b\b\b\b\b\b\b\b\r\u001b[1m96/96\u001b[0m \u001b[32m━━━━━━━━━━━━━━━━━━━━\u001b[0m\u001b[37m\u001b[0m \u001b[1m91s\u001b[0m 861ms/step - accuracy: 0.5671 - loss: 1.3789 - val_accuracy: 0.8358 - val_loss: 0.5393\n",
            "Epoch 2/50\n",
            "\u001b[1m96/96\u001b[0m \u001b[32m━━━━━━━━━━━━━━━━━━━━\u001b[0m\u001b[37m\u001b[0m \u001b[1m0s\u001b[0m 748ms/step - accuracy: 0.8155 - loss: 0.5424"
          ]
        },
        {
          "output_type": "stream",
          "name": "stderr",
          "text": [
            "WARNING:absl:You are saving your model as an HDF5 file via `model.save()` or `keras.saving.save_model(model)`. This file format is considered legacy. We recommend using instead the native Keras format, e.g. `model.save('my_model.keras')` or `keras.saving.save_model(model, 'my_model.keras')`. \n"
          ]
        },
        {
          "output_type": "stream",
          "name": "stdout",
          "text": [
            "\b\b\b\b\b\b\b\b\b\b\b\b\b\b\b\b\b\b\b\b\b\b\b\b\b\b\b\b\b\b\b\b\b\b\b\b\b\b\b\b\b\b\b\b\b\b\b\b\b\b\b\b\b\b\b\b\b\b\b\b\b\b\b\b\b\b\b\b\b\b\b\b\b\b\r\u001b[1m96/96\u001b[0m \u001b[32m━━━━━━━━━━━━━━━━━━━━\u001b[0m\u001b[37m\u001b[0m \u001b[1m130s\u001b[0m 779ms/step - accuracy: 0.8156 - loss: 0.5421 - val_accuracy: 0.8768 - val_loss: 0.4437\n",
            "Epoch 3/50\n",
            "\u001b[1m96/96\u001b[0m \u001b[32m━━━━━━━━━━━━━━━━━━━━\u001b[0m\u001b[37m\u001b[0m \u001b[1m79s\u001b[0m 752ms/step - accuracy: 0.8494 - loss: 0.4156 - val_accuracy: 0.8739 - val_loss: 0.3841\n",
            "Epoch 4/50\n",
            "\u001b[1m96/96\u001b[0m \u001b[32m━━━━━━━━━━━━━━━━━━━━\u001b[0m\u001b[37m\u001b[0m \u001b[1m75s\u001b[0m 777ms/step - accuracy: 0.8594 - loss: 0.3908 - val_accuracy: 0.8534 - val_loss: 0.3890\n",
            "Epoch 5/50\n",
            "\u001b[1m96/96\u001b[0m \u001b[32m━━━━━━━━━━━━━━━━━━━━\u001b[0m\u001b[37m\u001b[0m \u001b[1m74s\u001b[0m 765ms/step - accuracy: 0.8841 - loss: 0.3501 - val_accuracy: 0.8710 - val_loss: 0.3648\n",
            "Epoch 6/50\n",
            "\u001b[1m96/96\u001b[0m \u001b[32m━━━━━━━━━━━━━━━━━━━━\u001b[0m\u001b[37m\u001b[0m \u001b[1m0s\u001b[0m 742ms/step - accuracy: 0.8972 - loss: 0.2945"
          ]
        },
        {
          "output_type": "stream",
          "name": "stderr",
          "text": [
            "WARNING:absl:You are saving your model as an HDF5 file via `model.save()` or `keras.saving.save_model(model)`. This file format is considered legacy. We recommend using instead the native Keras format, e.g. `model.save('my_model.keras')` or `keras.saving.save_model(model, 'my_model.keras')`. \n"
          ]
        },
        {
          "output_type": "stream",
          "name": "stdout",
          "text": [
            "\b\b\b\b\b\b\b\b\b\b\b\b\b\b\b\b\b\b\b\b\b\b\b\b\b\b\b\b\b\b\b\b\b\b\b\b\b\b\b\b\b\b\b\b\b\b\b\b\b\b\b\b\b\b\b\b\b\b\b\b\b\b\b\b\b\b\b\b\b\b\b\b\b\b\r\u001b[1m96/96\u001b[0m \u001b[32m━━━━━━━━━━━━━━━━━━━━\u001b[0m\u001b[37m\u001b[0m \u001b[1m74s\u001b[0m 774ms/step - accuracy: 0.8971 - loss: 0.2947 - val_accuracy: 0.8798 - val_loss: 0.3571\n",
            "Epoch 7/50\n",
            "\u001b[1m96/96\u001b[0m \u001b[32m━━━━━━━━━━━━━━━━━━━━\u001b[0m\u001b[37m\u001b[0m \u001b[1m74s\u001b[0m 766ms/step - accuracy: 0.9098 - loss: 0.2828 - val_accuracy: 0.8798 - val_loss: 0.3492\n",
            "Epoch 8/50\n",
            "\u001b[1m96/96\u001b[0m \u001b[32m━━━━━━━━━━━━━━━━━━━━\u001b[0m\u001b[37m\u001b[0m \u001b[1m77s\u001b[0m 801ms/step - accuracy: 0.9194 - loss: 0.2526 - val_accuracy: 0.8798 - val_loss: 0.3634\n",
            "Epoch 9/50\n",
            "\u001b[1m96/96\u001b[0m \u001b[32m━━━━━━━━━━━━━━━━━━━━\u001b[0m\u001b[37m\u001b[0m \u001b[1m76s\u001b[0m 795ms/step - accuracy: 0.9209 - loss: 0.2401 - val_accuracy: 0.8739 - val_loss: 0.3489\n",
            "Epoch 10/50\n",
            "\u001b[1m96/96\u001b[0m \u001b[32m━━━━━━━━━━━━━━━━━━━━\u001b[0m\u001b[37m\u001b[0m \u001b[1m0s\u001b[0m 753ms/step - accuracy: 0.9181 - loss: 0.2348"
          ]
        },
        {
          "output_type": "stream",
          "name": "stderr",
          "text": [
            "WARNING:absl:You are saving your model as an HDF5 file via `model.save()` or `keras.saving.save_model(model)`. This file format is considered legacy. We recommend using instead the native Keras format, e.g. `model.save('my_model.keras')` or `keras.saving.save_model(model, 'my_model.keras')`. \n"
          ]
        },
        {
          "output_type": "stream",
          "name": "stdout",
          "text": [
            "\b\b\b\b\b\b\b\b\b\b\b\b\b\b\b\b\b\b\b\b\b\b\b\b\b\b\b\b\b\b\b\b\b\b\b\b\b\b\b\b\b\b\b\b\b\b\b\b\b\b\b\b\b\b\b\b\b\b\b\b\b\b\b\b\b\b\b\b\b\b\b\b\b\b\r\u001b[1m96/96\u001b[0m \u001b[32m━━━━━━━━━━━━━━━━━━━━\u001b[0m\u001b[37m\u001b[0m \u001b[1m75s\u001b[0m 785ms/step - accuracy: 0.9181 - loss: 0.2349 - val_accuracy: 0.8827 - val_loss: 0.3641\n",
            "Epoch 11/50\n",
            "\u001b[1m96/96\u001b[0m \u001b[32m━━━━━━━━━━━━━━━━━━━━\u001b[0m\u001b[37m\u001b[0m \u001b[1m82s\u001b[0m 783ms/step - accuracy: 0.9212 - loss: 0.2296 - val_accuracy: 0.8739 - val_loss: 0.3556\n",
            "Epoch 12/50\n",
            "\u001b[1m96/96\u001b[0m \u001b[32m━━━━━━━━━━━━━━━━━━━━\u001b[0m\u001b[37m\u001b[0m \u001b[1m76s\u001b[0m 787ms/step - accuracy: 0.9253 - loss: 0.2081 - val_accuracy: 0.8739 - val_loss: 0.3526\n",
            "Epoch 13/50\n",
            "\u001b[1m96/96\u001b[0m \u001b[32m━━━━━━━━━━━━━━━━━━━━\u001b[0m\u001b[37m\u001b[0m \u001b[1m76s\u001b[0m 787ms/step - accuracy: 0.9410 - loss: 0.1871 - val_accuracy: 0.8798 - val_loss: 0.3527\n",
            "Epoch 14/50\n",
            "\u001b[1m96/96\u001b[0m \u001b[32m━━━━━━━━━━━━━━━━━━━━\u001b[0m\u001b[37m\u001b[0m \u001b[1m75s\u001b[0m 779ms/step - accuracy: 0.9462 - loss: 0.1698 - val_accuracy: 0.8798 - val_loss: 0.3662\n",
            "Epoch 15/50\n",
            "\u001b[1m96/96\u001b[0m \u001b[32m━━━━━━━━━━━━━━━━━━━━\u001b[0m\u001b[37m\u001b[0m \u001b[1m75s\u001b[0m 782ms/step - accuracy: 0.9340 - loss: 0.1909 - val_accuracy: 0.8768 - val_loss: 0.3726\n",
            "Epoch 16/50\n",
            "\u001b[1m96/96\u001b[0m \u001b[32m━━━━━━━━━━━━━━━━━━━━\u001b[0m\u001b[37m\u001b[0m \u001b[1m77s\u001b[0m 800ms/step - accuracy: 0.9464 - loss: 0.1609 - val_accuracy: 0.8827 - val_loss: 0.3728\n",
            "Epoch 17/50\n",
            "\u001b[1m96/96\u001b[0m \u001b[32m━━━━━━━━━━━━━━━━━━━━\u001b[0m\u001b[37m\u001b[0m \u001b[1m0s\u001b[0m 762ms/step - accuracy: 0.9452 - loss: 0.1682"
          ]
        },
        {
          "output_type": "stream",
          "name": "stderr",
          "text": [
            "WARNING:absl:You are saving your model as an HDF5 file via `model.save()` or `keras.saving.save_model(model)`. This file format is considered legacy. We recommend using instead the native Keras format, e.g. `model.save('my_model.keras')` or `keras.saving.save_model(model, 'my_model.keras')`. \n"
          ]
        },
        {
          "output_type": "stream",
          "name": "stdout",
          "text": [
            "\b\b\b\b\b\b\b\b\b\b\b\b\b\b\b\b\b\b\b\b\b\b\b\b\b\b\b\b\b\b\b\b\b\b\b\b\b\b\b\b\b\b\b\b\b\b\b\b\b\b\b\b\b\b\b\b\b\b\b\b\b\b\b\b\b\b\b\b\b\b\b\b\b\b\r\u001b[1m96/96\u001b[0m \u001b[32m━━━━━━━━━━━━━━━━━━━━\u001b[0m\u001b[37m\u001b[0m \u001b[1m76s\u001b[0m 795ms/step - accuracy: 0.9452 - loss: 0.1682 - val_accuracy: 0.8915 - val_loss: 0.3623\n",
            "Epoch 18/50\n",
            "\u001b[1m39/96\u001b[0m \u001b[32m━━━━━━━━\u001b[0m\u001b[37m━━━━━━━━━━━━\u001b[0m \u001b[1m41s\u001b[0m 734ms/step - accuracy: 0.9500 - loss: 0.1750"
          ]
        }
      ]
    },
    {
      "cell_type": "markdown",
      "source": [
        "Using the model"
      ],
      "metadata": {
        "id": "TjvSKuD_kliw"
      }
    },
    {
      "cell_type": "markdown",
      "source": [
        "Loading the model"
      ],
      "metadata": {
        "id": "1dw7DabakubD"
      }
    },
    {
      "cell_type": "code",
      "source": [
        "test_gen = ImageDataGenerator(preprocessing_function=preprocess_input)\n",
        "\n",
        "test_ds = test_gen.flow_from_directory(\n",
        "    './clothing-dataset-small/test',\n",
        "    target_size=(299, 299),\n",
        "    batch_size=32,\n",
        "    shuffle=False\n",
        ")"
      ],
      "metadata": {
        "id": "VWX1eXRBkwDE"
      },
      "execution_count": null,
      "outputs": []
    },
    {
      "cell_type": "code",
      "source": [
        "import os\n",
        "\n",
        "for filename in os.listdir():\n",
        "    if filename.endswith(\".h5\"):\n",
        "        print(filename)\n"
      ],
      "metadata": {
        "id": "yTyibWU2YJmU"
      },
      "execution_count": null,
      "outputs": []
    },
    {
      "cell_type": "code",
      "source": [
        "model = keras.models.load_model('xception_v4_1_16_0.897.h5')"
      ],
      "metadata": {
        "id": "w4qyHJYHlJJC"
      },
      "execution_count": null,
      "outputs": []
    },
    {
      "cell_type": "code",
      "source": [
        "model.evaluate(test_ds)"
      ],
      "metadata": {
        "id": "qPkEMg9XlPHO"
      },
      "execution_count": null,
      "outputs": []
    },
    {
      "cell_type": "markdown",
      "source": [
        "Getting predictions"
      ],
      "metadata": {
        "id": "iFpaCjf6lVX8"
      }
    },
    {
      "cell_type": "code",
      "source": [
        "path = 'clothing-dataset-small/test/pants/c8d21106-bbdb-4e8d-83e4-bf3d14e54c16.jpg'\n",
        "\n",
        "img = load_img(path, target_size=(299, 299))\n",
        "\n",
        "x = np.array(img)\n",
        "X = np.array([x])\n",
        "X.shape\n",
        "\n"
      ],
      "metadata": {
        "id": "PkDdL7KGlVrX"
      },
      "execution_count": null,
      "outputs": []
    },
    {
      "cell_type": "code",
      "source": [
        "X = preprocess_input(X)\n",
        "pred = model.predict(X)"
      ],
      "metadata": {
        "id": "46fJt21ZlrK4"
      },
      "execution_count": null,
      "outputs": []
    },
    {
      "cell_type": "code",
      "source": [
        "classes = [\n",
        "    'dress',\n",
        "    'hat',\n",
        "    'longsleeve',\n",
        "    'outwear',\n",
        "    'pants',\n",
        "    'shirt',\n",
        "    'shoes',\n",
        "    'shorts',\n",
        "    'skirt',\n",
        "    't-shirt'\n",
        "]\n",
        "\n",
        "dict(zip(classes, pred[0]))"
      ],
      "metadata": {
        "id": "W_xnL4Hvlcfc"
      },
      "execution_count": null,
      "outputs": []
    },
    {
      "cell_type": "code",
      "source": [
        "classes[np.argmax(pred[0])]\n"
      ],
      "metadata": {
        "id": "cPn7dCB9ZkLG"
      },
      "execution_count": null,
      "outputs": []
    },
    {
      "cell_type": "markdown",
      "source": [
        "softmax"
      ],
      "metadata": {
        "id": "BzYUNHGYmZ7e"
      }
    },
    {
      "cell_type": "code",
      "source": [
        "probs = tf.nn.softmax(pred[0]).numpy()\n",
        "dict(zip(classes, probs))"
      ],
      "metadata": {
        "id": "D-rLuQdglteg"
      },
      "execution_count": null,
      "outputs": []
    },
    {
      "cell_type": "code",
      "source": [
        "# Determine the highest probability after softmax\n",
        "max_prob_class = classes[np.argmax(probs)]  # The class with the highest probability\n",
        "max_prob = np.max(probs)  # Highest probability\n",
        "\n",
        "# Print the result\n",
        "print(f\"The highest probability after softmax is: {max_prob_class} with probability: {max_prob:.4f}\")\n"
      ],
      "metadata": {
        "id": "83BkhkXumcjs"
      },
      "execution_count": null,
      "outputs": []
    },
    {
      "cell_type": "code",
      "source": [
        "print(img)"
      ],
      "metadata": {
        "id": "FA4JJmUTaJLJ"
      },
      "execution_count": null,
      "outputs": []
    },
    {
      "cell_type": "code",
      "source": [
        "plt.imshow(img)\n",
        "plt.axis('off')  # Turn off axis labels\n",
        "plt.show()"
      ],
      "metadata": {
        "id": "I3ZPbDvcaLtP"
      },
      "execution_count": null,
      "outputs": []
    }
  ],
  "metadata": {
    "colab": {
      "provenance": [],
      "gpuType": "T4",
      "authorship_tag": "ABX9TyMfpkB4zAE6urCYcP8NL81N",
      "include_colab_link": true
    },
    "kernelspec": {
      "display_name": "Python 3",
      "name": "python3"
    },
    "language_info": {
      "name": "python"
    },
    "accelerator": "GPU"
  },
  "nbformat": 4,
  "nbformat_minor": 0
}